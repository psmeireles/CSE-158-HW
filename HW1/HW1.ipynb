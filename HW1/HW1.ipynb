{
 "cells": [
  {
   "cell_type": "markdown",
   "metadata": {},
   "source": [
    "### Importing data"
   ]
  },
  {
   "cell_type": "code",
   "execution_count": 1,
   "metadata": {},
   "outputs": [],
   "source": [
    "import numpy\n",
    "import urllib.request\n",
    "import scipy.optimize\n",
    "import random\n",
    "import matplotlib.pyplot as plt\n",
    "from sklearn.model_selection import train_test_split\n",
    "from sklearn import svm"
   ]
  },
  {
   "cell_type": "code",
   "execution_count": 2,
   "metadata": {},
   "outputs": [],
   "source": [
    "def parseData(fname):\n",
    "  for l in urllib.request.urlopen(fname):\n",
    "    yield eval(l)\n"
   ]
  },
  {
   "cell_type": "code",
   "execution_count": 3,
   "metadata": {},
   "outputs": [
    {
     "name": "stdout",
     "output_type": "stream",
     "text": [
      "Reading data...\n",
      "done\n"
     ]
    }
   ],
   "source": [
    "print (\"Reading data...\")\n",
    "data = list(parseData(\"http://jmcauley.ucsd.edu/cse190/data/beer/beer_50000.json\"))\n",
    "print (\"done\")"
   ]
  },
  {
   "cell_type": "code",
   "execution_count": null,
   "metadata": {},
   "outputs": [],
   "source": [
    "def feature(datum):\n",
    "  feat = [1]\n",
    "  return feat\n",
    "\n",
    "X = [feature(d) for d in data]\n",
    "y = [d['review/overall'] for d in data]\n",
    "theta,residuals,rank,s = numpy.linalg.lstsq(X, y)"
   ]
  },
  {
   "cell_type": "markdown",
   "metadata": {},
   "source": [
    "\n",
    "## Regression\n",
    "### Question 1"
   ]
  },
  {
   "cell_type": "code",
   "execution_count": 57,
   "metadata": {},
   "outputs": [],
   "source": [
    "taste = [d['review/taste'] for d in data]"
   ]
  },
  {
   "cell_type": "code",
   "execution_count": 205,
   "metadata": {},
   "outputs": [
    {
     "data": {
      "image/png": "[encoded data removed]",
      "text/plain": [
       "<Figure size 432x288 with 1 Axes>"
      ]
     },
     "metadata": {},
     "output_type": "display_data"
    },
    {
     "name": "stdout",
     "output_type": "stream",
     "text": [
      "1 star(s):211\n",
      "2 star(s):1099\n",
      "3 star(s):4137\n",
      "4 star(s):16575\n",
      "5 star(s):4331\n"
     ]
    }
   ],
   "source": [
    "plt.hist(taste)\n",
    "plt.show()\n",
    "for i in range(1,6):\n",
    "    print(str(i) + ' star(s):' + str(taste.count(i)))"
   ]
  },
  {
   "cell_type": "markdown",
   "metadata": {},
   "source": [
    "## Question 2"
   ]
  },
  {
   "cell_type": "code",
   "execution_count": 75,
   "metadata": {},
   "outputs": [],
   "source": [
    "beerNames = [d['beer/name'] for d in data]"
   ]
  },
  {
   "cell_type": "code",
   "execution_count": 84,
   "metadata": {},
   "outputs": [],
   "source": [
    "beers = [{'name': name, 'rating': 0} for name in beerNames if beerNames.count(name) >= 5]"
   ]
  },
  {
   "cell_type": "code",
   "execution_count": 102,
   "metadata": {},
   "outputs": [],
   "source": [
    "for beer in beers:\n",
    "    ratings = [d['review/overall'] for d in data if d['beer/name'] == beer['name']]\n",
    "    beer['rating'] = sum(ratings)/len(ratings)"
   ]
  },
  {
   "cell_type": "code",
   "execution_count": 103,
   "metadata": {},
   "outputs": [
    {
     "data": {
      "text/plain": [
       "{'name': 'Wobbly Bob APA', 'rating': 4.714285714285714}"
      ]
     },
     "execution_count": 103,
     "metadata": {},
     "output_type": "execute_result"
    }
   ],
   "source": [
    "max(beers, key=lambda x:x['rating'])"
   ]
  },
  {
   "cell_type": "markdown",
   "metadata": {},
   "source": [
    "### Question 3"
   ]
  },
  {
   "cell_type": "code",
   "execution_count": 112,
   "metadata": {},
   "outputs": [
    {
     "name": "stderr",
     "output_type": "stream",
     "text": [
      "D:\\Program Files (x86)\\Microsoft Visual Studio\\Shared\\Anaconda3_64\\lib\\site-packages\\ipykernel_launcher.py:14: FutureWarning: `rcond` parameter will change to the default of machine precision times ``max(M, N)`` where M and N are the input matrix dimensions.\n",
      "To use the future default and silence this warning we advise to pass `rcond=None`, to keep using the old, explicitly pass `rcond=-1`.\n",
      "  \n"
     ]
    }
   ],
   "source": [
    "### How tasty is a beer? ###\n",
    "\n",
    "data2 = [d for d in data if 'beer/style' in d and 'beer/ABV' in d]\n",
    "\n",
    "def feature(datum):\n",
    "  feat = [1]\n",
    "  isHefeweizen = 1 if datum['beer/style'] == 'Hefeweizen' else 0\n",
    "  feat.append(isHefeweizen)\n",
    "  feat.append(datum['beer/ABV'])\n",
    "  return feat\n",
    "\n",
    "X = [feature(d) for d in data2]\n",
    "y = [d['review/taste'] for d in data2]\n",
    "theta,residuals,rank,s = numpy.linalg.lstsq(X, y)"
   ]
  },
  {
   "cell_type": "code",
   "execution_count": 117,
   "metadata": {},
   "outputs": [
    {
     "data": {
      "text/plain": [
       "array([ 3.11795084, -0.05637406,  0.10877902])"
      ]
     },
     "execution_count": 117,
     "metadata": {},
     "output_type": "execute_result"
    }
   ],
   "source": [
    "theta"
   ]
  },
  {
   "cell_type": "markdown",
   "metadata": {},
   "source": [
    "The values in theta array shows that the default taste rating is 3.11795084. It decreases by 0.05637406 if the beer is a Hefeweizen and increases by 0.10877902 for each 1 ABV the beer has."
   ]
  },
  {
   "cell_type": "markdown",
   "metadata": {},
   "source": [
    "### Question 4"
   ]
  },
  {
   "cell_type": "code",
   "execution_count": 188,
   "metadata": {},
   "outputs": [
    {
     "name": "stderr",
     "output_type": "stream",
     "text": [
      "D:\\Program Files (x86)\\Microsoft Visual Studio\\Shared\\Anaconda3_64\\lib\\site-packages\\ipykernel_launcher.py:15: FutureWarning: `rcond` parameter will change to the default of machine precision times ``max(M, N)`` where M and N are the input matrix dimensions.\n",
      "To use the future default and silence this warning we advise to pass `rcond=None`, to keep using the old, explicitly pass `rcond=-1`.\n",
      "  from ipykernel import kernelapp as app\n"
     ]
    }
   ],
   "source": [
    "### How tasty is a beer? ###\n",
    "data2 = [d for d in data if 'beer/style' in d and 'beer/ABV' in d]\n",
    "train = data[:len(data2)//2]\n",
    "test = data[len(data2)//2:]\n",
    "\n",
    "def feature(datum):\n",
    "  feat = [1]\n",
    "  isHefeweizen = 1 if datum['beer/style'] == 'Hefeweizen' else 0\n",
    "  feat.append(isHefeweizen)\n",
    "  feat.append(datum['beer/ABV'])\n",
    "  return feat\n",
    "\n",
    "X = [feature(d) for d in train]\n",
    "y = [d['review/taste'] for d in train]\n",
    "theta,residuals,rank,s = numpy.linalg.lstsq(X, y)"
   ]
  },
  {
   "cell_type": "markdown",
   "metadata": {},
   "source": [
    "#### MSE for train"
   ]
  },
  {
   "cell_type": "code",
   "execution_count": 189,
   "metadata": {},
   "outputs": [],
   "source": [
    "X = numpy.matrix(X)\n",
    "y = numpy.matrix(y)\n",
    "theta = numpy.matrix(theta)\n",
    "\n",
    "mse = 0\n",
    "for i in range(0,len(y)):\n",
    "    mse += (y.item(i) - X[i]*theta.T)**2\n",
    "mse = mse/len(y)"
   ]
  },
  {
   "cell_type": "code",
   "execution_count": 190,
   "metadata": {},
   "outputs": [
    {
     "data": {
      "text/plain": [
       "matrix([[4.18119268]])"
      ]
     },
     "execution_count": 190,
     "metadata": {},
     "output_type": "execute_result"
    }
   ],
   "source": [
    "mse"
   ]
  },
  {
   "cell_type": "markdown",
   "metadata": {},
   "source": [
    "#### MSE for test"
   ]
  },
  {
   "cell_type": "code",
   "execution_count": 191,
   "metadata": {},
   "outputs": [],
   "source": [
    "X = [feature(d) for d in test]\n",
    "y = [d['review/taste'] for d in test]\n",
    "X = numpy.matrix(X)\n",
    "y = numpy.matrix(y)\n",
    "\n",
    "mse = 0\n",
    "for i in range(0,len(y)):\n",
    "    mse += (y.item(i) - X[i]*theta.T)**2\n",
    "mse = mse/len(y)"
   ]
  },
  {
   "cell_type": "code",
   "execution_count": 192,
   "metadata": {},
   "outputs": [
    {
     "data": {
      "text/plain": [
       "matrix([[0.05415694]])"
      ]
     },
     "execution_count": 192,
     "metadata": {},
     "output_type": "execute_result"
    }
   ],
   "source": [
    "mse"
   ]
  },
  {
   "cell_type": "markdown",
   "metadata": {},
   "source": [
    "### Question 5"
   ]
  },
  {
   "cell_type": "code",
   "execution_count": 195,
   "metadata": {},
   "outputs": [
    {
     "name": "stderr",
     "output_type": "stream",
     "text": [
      "D:\\Program Files (x86)\\Microsoft Visual Studio\\Shared\\Anaconda3_64\\lib\\site-packages\\ipykernel_launcher.py:16: FutureWarning: `rcond` parameter will change to the default of machine precision times ``max(M, N)`` where M and N are the input matrix dimensions.\n",
      "To use the future default and silence this warning we advise to pass `rcond=None`, to keep using the old, explicitly pass `rcond=-1`.\n",
      "  app.launch_new_instance()\n"
     ]
    }
   ],
   "source": [
    "### How tasty is a beer? ###\n",
    "\n",
    "data2 = [d for d in data if 'beer/style' in d and 'beer/ABV' in d]\n",
    "y = [d['review/taste'] for d in data2]\n",
    "\n",
    "X_train, X_test, y_train, y_test = train_test_split(data2, y, test_size=0.50)\n",
    "\n",
    "def feature(datum):\n",
    "  feat = [1]\n",
    "  isHefeweizen = 1 if datum['beer/style'] == 'Hefeweizen' else 0\n",
    "  feat.append(isHefeweizen)\n",
    "  feat.append(datum['beer/ABV'])\n",
    "  return feat\n",
    "\n",
    "X = [feature(d) for d in X_train]\n",
    "theta,residuals,rank,s = numpy.linalg.lstsq(X, y_train)"
   ]
  },
  {
   "cell_type": "markdown",
   "metadata": {},
   "source": [
    "#### MSE for train"
   ]
  },
  {
   "cell_type": "code",
   "execution_count": 196,
   "metadata": {},
   "outputs": [],
   "source": [
    "X = numpy.matrix(X)\n",
    "y = numpy.matrix(y_train)\n",
    "theta = numpy.matrix(theta)\n",
    "\n",
    "mse = 0\n",
    "for i in range(0,len(y)):\n",
    "    mse += (y.item(i) - X[i]*theta.T)**2\n",
    "mse = mse/len(y)"
   ]
  },
  {
   "cell_type": "code",
   "execution_count": 197,
   "metadata": {},
   "outputs": [
    {
     "data": {
      "text/plain": [
       "matrix([[0.02269626]])"
      ]
     },
     "execution_count": 197,
     "metadata": {},
     "output_type": "execute_result"
    }
   ],
   "source": [
    "mse"
   ]
  },
  {
   "cell_type": "markdown",
   "metadata": {},
   "source": [
    "#### MSE for test"
   ]
  },
  {
   "cell_type": "code",
   "execution_count": 198,
   "metadata": {},
   "outputs": [],
   "source": [
    "X = [feature(d) for d in X_test]\n",
    "X = numpy.matrix(X)\n",
    "y = numpy.matrix(y_test)\n",
    "\n",
    "mse = 0\n",
    "for i in range(0,len(y)):\n",
    "    mse += (y.item(i) - X[i]*theta.T)**2\n",
    "mse = mse/len(y)"
   ]
  },
  {
   "cell_type": "code",
   "execution_count": 199,
   "metadata": {},
   "outputs": [
    {
     "data": {
      "text/plain": [
       "matrix([[0.25103963]])"
      ]
     },
     "execution_count": 199,
     "metadata": {},
     "output_type": "execute_result"
    }
   ],
   "source": [
    "mse"
   ]
  },
  {
   "cell_type": "markdown",
   "metadata": {},
   "source": [
    "In this case the train mse was lower and the test mse was higher than in the other experiment. This may be because the data was inittially ordered based in some feature, so when dividing the test and training sets, we have very different datasets. This way, the errors are very discrepant.\n",
    "\n",
    "When we shuffle the data before splitting it, the two resultant datasets are more likely to be similar, resulting in similar mse's."
   ]
  },
  {
   "cell_type": "markdown",
   "metadata": {},
   "source": [
    "### Question 6"
   ]
  },
  {
   "cell_type": "code",
   "execution_count": 18,
   "metadata": {},
   "outputs": [],
   "source": [
    "### SVM -- \"Is the beer a Hefeweizen?\"\n",
    "data2 = [d for d in data if 'review/taste' in d and 'review/appearance' in d and 'review/aroma' in d and 'review/palate' in d and 'review/overall' in d]\n",
    "X = [[d['review/taste'], d['review/appearance'], d['review/aroma'], d['review/palate'], d['review/overall']] for d in data2]\n",
    "y = [\"Hefeweizen\" in b['beer/style'] for b in data2]\n",
    "\n",
    "X_train, X_test, y_train, y_test = train_test_split(X, y, test_size=0.50)"
   ]
  },
  {
   "cell_type": "code",
   "execution_count": 19,
   "metadata": {},
   "outputs": [],
   "source": [
    "# Create a support vector classifier object, with regularization parameter C = 1000\n",
    "clf = svm.SVC(C=1000, kernel='linear')\n",
    "clf.fit(X_train, y_train)\n",
    "\n",
    "train_predictions = clf.predict(X_train)\n",
    "test_predictions = clf.predict(X_test)"
   ]
  },
  {
   "cell_type": "code",
   "execution_count": 21,
   "metadata": {},
   "outputs": [
    {
     "name": "stdout",
     "output_type": "stream",
     "text": [
      "Train accuracy with c=1000: 0.98808\n",
      "Test accuracy with c=1000: 0.9872\n"
     ]
    }
   ],
   "source": [
    "train_accuracy = train_predictions == y_train\n",
    "train_accuracy = train_accuracy.sum()/train_accuracy.size\n",
    "print('Train accuracy with c=' + str(c) + ': ' + str(train_accuracy))\n",
    "\n",
    "test_accuracy = test_predictions == y_test\n",
    "test_accuracy = test_accuracy.sum()/test_accuracy.size\n",
    "print('Test accuracy with c=' + str(c) + ': ' + str(test_accuracy))"
   ]
  },
  {
   "cell_type": "markdown",
   "metadata": {},
   "source": [
    "### Question 7"
   ]
  },
  {
   "cell_type": "markdown",
   "metadata": {},
   "source": [
    "For the new predictor I will use the following features vector:\n",
    "\n",
    "['review/taste', 'review/appearance', 'review/aroma', 'review/palate', 'review/overall', 'user/gender']"
   ]
  },
  {
   "cell_type": "code",
   "execution_count": 22,
   "metadata": {},
   "outputs": [],
   "source": [
    "data2 = [d for d in data if 'review/taste' in d and 'review/appearance' in d and 'review/aroma' in d and 'review/palate' in d and 'review/overall' in d and 'user/gender' in d]\n",
    "X = [[d['review/taste'], d['review/appearance'], d['review/aroma'], d['review/palate'], d['review/overall'], 0 if d['user/gender'] == 'Female' else 1] for d in data2]\n",
    "y = [\"Hefeweizen\" in b['beer/style'] for b in data2]\n",
    "\n",
    "X_train, X_test, y_train, y_test = train_test_split(X, y, test_size=0.50)"
   ]
  },
  {
   "cell_type": "code",
   "execution_count": 23,
   "metadata": {},
   "outputs": [],
   "source": [
    "clf = svm.SVC(C=1000, kernel='linear')\n",
    "clf.fit(X_train, y_train)\n",
    "\n",
    "train_predictions = clf.predict(X_train)\n",
    "test_predictions = clf.predict(X_test)"
   ]
  },
  {
   "cell_type": "code",
   "execution_count": 24,
   "metadata": {},
   "outputs": [
    {
     "name": "stdout",
     "output_type": "stream",
     "text": [
      "Train accuracy with c=1000: 0.9887265954318204\n",
      "Test accuracy with c=1000: 0.9888257204469711\n"
     ]
    }
   ],
   "source": [
    "train_accuracy = train_predictions == y_train\n",
    "train_accuracy = train_accuracy.sum()/train_accuracy.size\n",
    "print('Train accuracy with c=' + str(c) + ': ' + str(train_accuracy))\n",
    "\n",
    "test_accuracy = test_predictions == y_test\n",
    "test_accuracy = test_accuracy.sum()/test_accuracy.size\n",
    "print('Test accuracy with c=' + str(c) + ': ' + str(test_accuracy))"
   ]
  },
  {
   "cell_type": "markdown",
   "metadata": {},
   "source": [
    "### Question 8"
   ]
  },
  {
   "cell_type": "code",
   "execution_count": 25,
   "metadata": {},
   "outputs": [
    {
     "name": "stdout",
     "output_type": "stream",
     "text": [
      "Train accuracy with c=0.1: 0.9887265954318204\n",
      "Test accuracy with c=0.1: 0.9888257204469711\n",
      "Train accuracy with c=10: 0.9887265954318204\n",
      "Test accuracy with c=10: 0.9888257204469711\n",
      "Train accuracy with c=1000: 0.9887265954318204\n",
      "Test accuracy with c=1000: 0.9888257204469711\n",
      "Train accuracy with c=100000: 0.9887265954318204\n",
      "Test accuracy with c=100000: 0.9888257204469711\n"
     ]
    }
   ],
   "source": [
    "for c in [0.1, 10, 1000, 100000]:\n",
    "    clf = svm.SVC(C=c, kernel='linear')\n",
    "    clf.fit(X_train, y_train)\n",
    "\n",
    "    train_predictions = clf.predict(X_train)\n",
    "    test_predictions = clf.predict(X_test)\n",
    "    \n",
    "    train_accuracy = train_predictions == y_train\n",
    "    train_accuracy = train_accuracy.sum()/train_accuracy.size\n",
    "    print('Train accuracy with c=' + str(c) + ': ' + str(train_accuracy))\n",
    "\n",
    "    test_accuracy = test_predictions == y_test\n",
    "    test_accuracy = test_accuracy.sum()/test_accuracy.size\n",
    "    print('Test accuracy with c=' + str(c) + ': ' + str(test_accuracy))"
   ]
  },
  {
   "cell_type": "markdown",
   "metadata": {},
   "source": [
    "The accuracy didn't increase significantly, but it took longer to compute the bigger the constant C was."
   ]
  },
  {
   "cell_type": "code",
   "execution_count": null,
   "metadata": {},
   "outputs": [],
   "source": []
  }
 ],
 "metadata": {
  "kernelspec": {
   "display_name": "Python 3",
   "language": "python",
   "name": "python3"
  },
  "language_info": {
   "codemirror_mode": {
    "name": "ipython",
    "version": 3
   },
   "file_extension": ".py",
   "mimetype": "text/x-python",
   "name": "python",
   "nbconvert_exporter": "python",
   "pygments_lexer": "ipython3",
   "version": "3.6.5"
  }
 },
 "nbformat": 4,
 "nbformat_minor": 2
}
