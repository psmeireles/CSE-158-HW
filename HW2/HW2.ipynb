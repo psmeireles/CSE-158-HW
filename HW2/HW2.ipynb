{
 "cells": [
  {
   "cell_type": "code",
   "execution_count": 40,
   "metadata": {},
   "outputs": [],
   "source": [
    "import numpy\n",
    "from urllib.request import urlopen\n",
    "import scipy.optimize\n",
    "import random\n",
    "import ast\n",
    "from sklearn.decomposition import PCA\n",
    "from collections import defaultdict\n",
    "import networkx as nx\n",
    "import matplotlib.pyplot as plt\n",
    "from sklearn.metrics import precision_recall_curve\n",
    "from sklearn.utils.fixes import signature\n",
    "from math import exp\n",
    "from math import log"
   ]
  },
  {
   "cell_type": "markdown",
   "metadata": {},
   "source": [
    "### Question 1"
   ]
  },
  {
   "cell_type": "code",
   "execution_count": 2,
   "metadata": {},
   "outputs": [],
   "source": [
    "def parseData(fname):\n",
    "  for l in open(fname):\n",
    "    yield ast.literal_eval(l)"
   ]
  },
  {
   "cell_type": "code",
   "execution_count": 3,
   "metadata": {},
   "outputs": [
    {
     "name": "stdout",
     "output_type": "stream",
     "text": [
      "Reading data...\n",
      "done\n"
     ]
    }
   ],
   "source": [
    "print(\"Reading data...\")\n",
    "data = list(parseData(\"beer_50000.json\"))\n",
    "print(\"done\")"
   ]
  },
  {
   "cell_type": "code",
   "execution_count": 4,
   "metadata": {},
   "outputs": [],
   "source": [
    "def feature(datum):\n",
    "  feat = [1, datum['review/taste'], datum['review/appearance'], datum['review/aroma'], datum['review/palate'], datum['review/overall']]\n",
    "  return feat\n",
    "\n",
    "X = [feature(d) for d in data]\n",
    "y = [d['beer/ABV'] >= 6.5 for d in data]"
   ]
  },
  {
   "cell_type": "code",
   "execution_count": 5,
   "metadata": {},
   "outputs": [],
   "source": [
    "def inner(x,y):\n",
    "  return sum([x[i]*y[i] for i in range(len(x))])\n",
    "\n",
    "def sigmoid(x):\n",
    "  return 1.0 / (1 + exp(-x))\n"
   ]
  },
  {
   "cell_type": "code",
   "execution_count": 6,
   "metadata": {},
   "outputs": [],
   "source": [
    "##################################################\n",
    "# Logistic regression by gradient ascent         #\n",
    "##################################################\n",
    "\n",
    "# NEGATIVE Log-likelihood\n",
    "def f(theta, X, y, lam):\n",
    "  loglikelihood = 0\n",
    "  for i in range(len(X)):\n",
    "    logit = inner(X[i], theta)\n",
    "    loglikelihood -= log(1 + exp(-logit))\n",
    "    if not y[i]:\n",
    "      loglikelihood -= logit\n",
    "  for k in range(len(theta)):\n",
    "    loglikelihood -= lam * theta[k]*theta[k]\n",
    "  # for debugging\n",
    "  # print(\"ll =\" + str(loglikelihood))\n",
    "  return -loglikelihood\n",
    "\n",
    "# NEGATIVE Derivative of log-likelihood\n",
    "def fprime(theta, X, y, lam):\n",
    "  dl = [0]*len(theta)\n",
    "  for i in range(len(X)):\n",
    "    logit = inner(X[i], theta)\n",
    "    for k in range(len(theta)):\n",
    "      dl[k] += X[i][k] * (1 - sigmoid(logit))\n",
    "      if not y[i]:\n",
    "        dl[k] -= X[i][k]\n",
    "  for k in range(len(theta)):\n",
    "    dl[k] -= lam*2*theta[k]\n",
    "  return numpy.array([-x for x in dl])\n",
    "\n",
    "ind_list = [i for i in range(len(X))]\n",
    "random.shuffle(ind_list)\n",
    "random_X = []\n",
    "random_y = []\n",
    "\n",
    "for i in ind_list:\n",
    "    random_X.append(X[i])\n",
    "    random_y.append(y[i])\n",
    "\n",
    "X_train = random_X[:len(random_X)//3]\n",
    "y_train = random_y[:len(random_y)//3]\n",
    "\n",
    "X_test = random_X[len(random_X)//3 + 1:2*len(random_X)//3]\n",
    "y_test = random_y[len(random_y)//3 + 1:2*len(random_y)//3]\n",
    "\n",
    "X_val = random_X[2*len(random_X)//3:]\n",
    "y_val = random_y[2*len(random_y)//3:]"
   ]
  },
  {
   "cell_type": "code",
   "execution_count": 7,
   "metadata": {},
   "outputs": [],
   "source": [
    "##################################################\n",
    "# Train                                          #\n",
    "##################################################\n",
    "\n",
    "def train(lam):\n",
    "  theta,_,_ = scipy.optimize.fmin_l_bfgs_b(f, [0]*len(X[0]), fprime, pgtol = 10, args = (X_train, y_train, lam))\n",
    "  return theta"
   ]
  },
  {
   "cell_type": "code",
   "execution_count": 8,
   "metadata": {},
   "outputs": [],
   "source": [
    "##################################################\n",
    "# Predict                                        #\n",
    "##################################################\n",
    "\n",
    "def performance(theta, X_test, y_test):\n",
    "  scores = [inner(theta,x) for x in X_test]\n",
    "  predictions = [s > 0 for s in scores]\n",
    "  correct = [(a==b) for (a,b) in zip(predictions,y_test)]\n",
    "  acc = sum(correct) * 1.0 / len(correct)\n",
    "  return predictions, acc, scores"
   ]
  },
  {
   "cell_type": "code",
   "execution_count": 15,
   "metadata": {},
   "outputs": [
    {
     "name": "stdout",
     "output_type": "stream",
     "text": [
      "lambda = 1.0\n",
      "Train:\taccuracy=0.7214088563542542\n",
      "Test:\taccuracy=0.7146285851434058\n",
      "Validation:\taccuracy=0.7153056938861223\n"
     ]
    }
   ],
   "source": [
    "##################################################\n",
    "# Validation pipeline                            #\n",
    "##################################################\n",
    "\n",
    "lam = 1.0\n",
    "\n",
    "theta = train(lam)\n",
    "train_predictions, train_acc, train_scores = performance(theta, X_train, y_train)\n",
    "test_predictions, test_acc, test_scores = performance(theta, X_test, y_test)\n",
    "val_predictions, val_acc, val_scores = performance(theta, X_val, y_val)\n",
    "print(\"lambda = \" + str(lam))\n",
    "print(\"Train:\\taccuracy=\" + str(train_acc))\n",
    "print(\"Test:\\taccuracy=\" + str(test_acc))\n",
    "print(\"Validation:\\taccuracy=\" + str(val_acc))"
   ]
  },
  {
   "cell_type": "markdown",
   "metadata": {},
   "source": [
    "### Question 2"
   ]
  },
  {
   "cell_type": "code",
   "execution_count": 16,
   "metadata": {},
   "outputs": [
    {
     "name": "stdout",
     "output_type": "stream",
     "text": [
      "True Positive: 9019\n",
      "False Positive: 3504\n",
      "True Negative: 2891\n",
      "False Negative: 1252\n"
     ]
    }
   ],
   "source": [
    "tPos = 0\n",
    "fPos = 0\n",
    "tNeg = 0\n",
    "fNeg = 0\n",
    "\n",
    "for i in range(len(y_test)):\n",
    "    if y_test[i] == True and test_predictions[i] == True:\n",
    "        tPos += 1\n",
    "    elif y_test[i] == False and test_predictions[i] == True:\n",
    "        fPos += 1\n",
    "    elif y_test[i] == False and test_predictions[i] == False:\n",
    "        tNeg += 1\n",
    "    else:\n",
    "        fNeg += 1\n",
    "\n",
    "print(\"True Positive: \" + str(tPos))\n",
    "print(\"False Positive: \" + str(fPos))\n",
    "print(\"True Negative: \" + str(tNeg))\n",
    "print(\"False Negative: \" + str(fNeg))"
   ]
  },
  {
   "cell_type": "markdown",
   "metadata": {},
   "source": [
    "### Question 3"
   ]
  },
  {
   "cell_type": "code",
   "execution_count": 17,
   "metadata": {},
   "outputs": [],
   "source": [
    "test_predictions = list(zip(y_test, test_predictions, test_scores))\n",
    "test_predictions = sorted(test_predictions, key=lambda x:x[2])\n"
   ]
  },
  {
   "cell_type": "code",
   "execution_count": 34,
   "metadata": {},
   "outputs": [],
   "source": [
    "relevantAt100 = sum([1 for v in test_predictions[-100:] if v[0] == True])\n",
    "retrievedAt100 = sum([1 for v in test_predictions[-100:] if v[1] == True])\n",
    "relRetrievedAt100 = sum([1 for v in test_predictions[-100:] if v[0] == v[1] and v[0] == True])\n",
    "totalRelevant = sum([1 for v in test_predictions if v[0] == True])\n",
    "totalRetrieved = sum([1 for v in test_predictions if v[1] == True])\n",
    "totalRelRetrieved = sum([1 for v in test_predictions if v[0] == v[1] and v[0] == True])"
   ]
  },
  {
   "cell_type": "code",
   "execution_count": 35,
   "metadata": {},
   "outputs": [],
   "source": [
    "precisionAt100 = relRetrievedAt100/retrievedAt100\n",
    "recallAt100 = relRetrievedAt100/relevantAt100\n",
    "precision = totalRelRetrieved/totalRetrieved\n",
    "recall = totalRelRetrieved/totalRelevant"
   ]
  },
  {
   "cell_type": "code",
   "execution_count": 36,
   "metadata": {},
   "outputs": [
    {
     "name": "stdout",
     "output_type": "stream",
     "text": [
      "Precision@100: 0.92\n",
      "Precision: 0.7201948414916554\n",
      "Recall@100: 1.0\n",
      "Recall: 0.8781033979164639\n"
     ]
    }
   ],
   "source": [
    "print(\"Precision@100: \" + str(precisionAt100))\n",
    "print(\"Precision: \" + str(precision))\n",
    "print(\"Recall@100: \" + str(recallAt100))\n",
    "print(\"Recall: \" + str(recall))"
   ]
  },
  {
   "cell_type": "markdown",
   "metadata": {},
   "source": [
    "### Question 4"
   ]
  },
  {
   "cell_type": "code",
   "execution_count": 38,
   "metadata": {},
   "outputs": [],
   "source": [
    "precision, recall, _ = precision_recall_curve(y_test, test_scores)"
   ]
  },
  {
   "cell_type": "code",
   "execution_count": 47,
   "metadata": {},
   "outputs": [
    {
     "data": {
      "text/plain": [
       "Text(0.5,1,'2-class Precision-Recall curve: AP={0:0.2f}')"
      ]
     },
     "execution_count": 47,
     "metadata": {},
     "output_type": "execute_result"
    },
    {
     "data": {
      "image/png": "[encoded data removed]",
      "text/plain": [
       "<Figure size 432x288 with 1 Axes>"
      ]
     },
     "metadata": {},
     "output_type": "display_data"
    }
   ],
   "source": [
    "plt.step(recall, precision, color='b', alpha=0.2,\n",
    "         where='post')\n",
    "plt.fill_between(recall, precision, alpha=0.2, color='b')\n",
    "\n",
    "plt.xlabel('Recall')\n",
    "plt.ylabel('Precision')\n",
    "plt.ylim([0.0, 1.05])\n",
    "plt.xlim([0.0, 1.0])\n",
    "plt.title('2-class Precision-Recall curve: AP={0:0.2f}')"
   ]
  },
  {
   "cell_type": "markdown",
   "metadata": {},
   "source": [
    "### Question 5"
   ]
  },
  {
   "cell_type": "code",
   "execution_count": 48,
   "metadata": {},
   "outputs": [
    {
     "data": {
      "image/png": "[encoded data removed]",
      "text/plain": [
       "<Figure size 432x288 with 1 Axes>"
      ]
     },
     "metadata": {},
     "output_type": "display_data"
    },
    {
     "data": {
      "text/plain": [
       "<Figure size 432x288 with 0 Axes>"
      ]
     },
     "metadata": {},
     "output_type": "display_data"
    }
   ],
   "source": [
    "### Network visualization ###\n",
    "\n",
    "edges = set()\n",
    "nodes = set()\n",
    "for edge in open(\"egonet.txt\"):\n",
    "  x,y = edge.split()\n",
    "  x,y = int(x),int(y)\n",
    "  edges.add((x,y))\n",
    "  edges.add((y,x))\n",
    "  nodes.add(x)\n",
    "  nodes.add(y)\n",
    "\n",
    "G = nx.Graph()\n",
    "for e in edges:\n",
    "  G.add_edge(e[0],e[1])\n",
    "nx.draw(G)\n",
    "plt.show()\n",
    "plt.clf()\n",
    "\n"
   ]
  },
  {
   "cell_type": "code",
   "execution_count": 49,
   "metadata": {},
   "outputs": [],
   "source": [
    "connComponents = list(nx.connected_component_subgraphs(G))"
   ]
  },
  {
   "cell_type": "code",
   "execution_count": 50,
   "metadata": {},
   "outputs": [
    {
     "name": "stdout",
     "output_type": "stream",
     "text": [
      "40\n",
      "9\n",
      "12\n"
     ]
    }
   ],
   "source": [
    "for graph in connComponents:\n",
    "    print(len(graph.nodes))"
   ]
  },
  {
   "cell_type": "markdown",
   "metadata": {},
   "source": [
    "The graph has 3 connected components and the largest one has 40 nodes"
   ]
  },
  {
   "cell_type": "markdown",
   "metadata": {},
   "source": [
    "### Question 6"
   ]
  },
  {
   "cell_type": "code",
   "execution_count": 155,
   "metadata": {},
   "outputs": [],
   "source": [
    "largestCom = connComponents[0]"
   ]
  },
  {
   "cell_type": "code",
   "execution_count": 156,
   "metadata": {},
   "outputs": [],
   "source": [
    "nodes = list(largestCom.nodes)\n",
    "edges = list(largestCom.edges)"
   ]
  },
  {
   "cell_type": "code",
   "execution_count": 157,
   "metadata": {},
   "outputs": [],
   "source": [
    "nodes1 = nodes[:len(nodes)//2]\n",
    "degrees1 = sum([G.degree(v) for v in nodes1])\n",
    "nodes2 = nodes[len(nodes)//2:]\n",
    "degrees2 = sum([G.degree(v) for v in nodes2])"
   ]
  },
  {
   "cell_type": "code",
   "execution_count": 158,
   "metadata": {},
   "outputs": [],
   "source": [
    "cuttedEdges = sum([1 for e in edges if (e[0] in nodes1 and e[1] in nodes2) or (e[0] in nodes2 and e[1] in nodes1)])"
   ]
  },
  {
   "cell_type": "code",
   "execution_count": 159,
   "metadata": {},
   "outputs": [],
   "source": [
    "normCut = cuttedEdges/2*(1/degrees1 + 1/degrees2)"
   ]
  },
  {
   "cell_type": "code",
   "execution_count": 160,
   "metadata": {},
   "outputs": [
    {
     "name": "stdout",
     "output_type": "stream",
     "text": [
      "Normalized-cut cost: 0.39416666666666667\n"
     ]
    }
   ],
   "source": [
    "print(\"Normalized-cut cost: \" + str(normCut))"
   ]
  },
  {
   "cell_type": "markdown",
   "metadata": {},
   "source": [
    "### Question 7"
   ]
  },
  {
   "cell_type": "code",
   "execution_count": 161,
   "metadata": {},
   "outputs": [],
   "source": [
    "newCost = 0\n",
    "while 1:\n",
    "    costs = []\n",
    "    for n in nodes:\n",
    "        newNodes1 = nodes1.copy()\n",
    "        newNodes2 = nodes2.copy()\n",
    "        \n",
    "        if n in nodes1:\n",
    "            newNodes1.remove(n)\n",
    "            newNodes2.append(n)\n",
    "            newDegrees1 = degrees1 - G.degree(n)\n",
    "            newDegrees2 = degrees2 + G.degree(n)\n",
    "        else:\n",
    "            newNodes2.remove(n)\n",
    "            newNodes1.append(n)\n",
    "            newDegrees2 = degrees2 - G.degree(n)\n",
    "            newDegrees1 = degrees1 + G.degree(n)\n",
    "            \n",
    "        cuttedEdges = sum([1 for e in edges if (e[0] in newNodes1 and e[1] in newNodes2) or (e[0] in newNodes2 and e[1] in newNodes1)])\n",
    "        costs.append([n, cuttedEdges/2*(1/newDegrees1 + 1/newDegrees2)])\n",
    "        \n",
    "    costs = sorted(costs, key=lambda x:x[1])\n",
    "    newCost = costs[0][1]\n",
    "    if costs[0][0] in nodes1:\n",
    "        nodes1.remove(costs[0][0])\n",
    "        nodes2.append(costs[0][0])\n",
    "        degrees1 = degrees1 - G.degree(costs[0][0])\n",
    "        degrees2 = degrees2 + G.degree(costs[0][0])\n",
    "    else:\n",
    "        nodes2.remove(costs[0][0])\n",
    "        nodes1.append(costs[0][0])\n",
    "        degrees2 = degrees2 - G.degree(costs[0][0])\n",
    "        degrees1 = degrees1 + G.degree(costs[0][0])\n",
    "        \n",
    "    nodes1.sort()\n",
    "    nodes2.sort()\n",
    "    \n",
    "    if newCost > normCut:\n",
    "        break\n",
    "    else:\n",
    "        normCut = newCost"
   ]
  },
  {
   "cell_type": "code",
   "execution_count": 162,
   "metadata": {},
   "outputs": [
    {
     "name": "stdout",
     "output_type": "stream",
     "text": [
      "[697, 703, 708, 713, 719, 745, 747, 753, 769, 772, 774, 800, 803, 805, 810, 811, 819, 823, 828, 830, 840, 856, 869, 880, 890]\n"
     ]
    }
   ],
   "source": [
    "print(nodes1)"
   ]
  },
  {
   "cell_type": "code",
   "execution_count": 163,
   "metadata": {},
   "outputs": [
    {
     "name": "stdout",
     "output_type": "stream",
     "text": [
      "[729, 798, 804, 825, 861, 863, 864, 876, 878, 882, 884, 886, 888, 889, 893]\n"
     ]
    }
   ],
   "source": [
    "print(nodes2)"
   ]
  },
  {
   "cell_type": "code",
   "execution_count": 164,
   "metadata": {},
   "outputs": [
    {
     "name": "stdout",
     "output_type": "stream",
     "text": [
      "The new normalized cut cost is 0.09817045961624274\n"
     ]
    }
   ],
   "source": [
    "print(\"The new normalized cut cost is \" + str(normCut))"
   ]
  },
  {
   "cell_type": "markdown",
   "metadata": {},
   "source": [
    "### Question 8"
   ]
  },
  {
   "cell_type": "code",
   "execution_count": 169,
   "metadata": {},
   "outputs": [],
   "source": [
    "nodes1 = nodes[:len(nodes)//2]\n",
    "degrees1 = sum([G.degree(v) for v in nodes1])\n",
    "nodes2 = nodes[len(nodes)//2:]\n",
    "degrees2 = sum([G.degree(v) for v in nodes2])"
   ]
  },
  {
   "cell_type": "code",
   "execution_count": 170,
   "metadata": {},
   "outputs": [],
   "source": [
    "def modularity(c1, c2):\n",
    "    e00 = sum([1 for e in edges if e[0] in c1 and e[1] in c1])/len(edges)\n",
    "    e11 = sum([1 for e in edges if e[0] in c2 and e[1] in c2])/len(edges)\n",
    "\n",
    "    a0 = 0\n",
    "    a1 = 0\n",
    "    for e in edges:\n",
    "        if(e[0] in c1):\n",
    "            a0 = a0 + 1\n",
    "        else:\n",
    "            a1 = a1 + 1\n",
    "\n",
    "        if(e[1] in c1):\n",
    "            a0 = a0 + 1\n",
    "        else:\n",
    "            a1 = a1 + 1\n",
    "    a0 = a0/(2*len(edges))\n",
    "    a1 = a1/(2*len(edges))\n",
    "\n",
    "    return e00 - a0*a0 + e11 - a1*a1"
   ]
  },
  {
   "cell_type": "code",
   "execution_count": 171,
   "metadata": {},
   "outputs": [],
   "source": [
    "actualModularity = modularity(nodes1, nodes2)\n",
    "newModularity = 1\n",
    "while 1:\n",
    "    modularities = []\n",
    "    for n in nodes:\n",
    "        newNodes1 = nodes1.copy()\n",
    "        newNodes2 = nodes2.copy()\n",
    "        \n",
    "        if n in nodes1:\n",
    "            newNodes1.remove(n)\n",
    "            newNodes2.append(n)\n",
    "            newDegrees1 = degrees1 - G.degree(n)\n",
    "            newDegrees2 = degrees2 + G.degree(n)\n",
    "        else:\n",
    "            newNodes2.remove(n)\n",
    "            newNodes1.append(n)\n",
    "            newDegrees2 = degrees2 - G.degree(n)\n",
    "            newDegrees1 = degrees1 + G.degree(n)\n",
    "            \n",
    "        modularities.append([n, modularity(newNodes1, newNodes2)])\n",
    "        \n",
    "    modularities = sorted(modularities, key=lambda x:x[1])\n",
    "    newModularity = modularities[0][1]\n",
    "    \n",
    "    if modularities[0][0] in nodes1:\n",
    "        nodes1.remove(modularities[0][0])\n",
    "        nodes2.append(modularities[0][0])\n",
    "        degrees1 = degrees1 - G.degree(modularities[0][0])\n",
    "        degrees2 = degrees2 + G.degree(modularities[0][0])\n",
    "    else:\n",
    "        nodes2.remove(modularities[0][0])\n",
    "        nodes1.append(modularities[0][0])\n",
    "        degrees2 = degrees2 - G.degree(modularities[0][0])\n",
    "        degrees1 = degrees1 + G.degree(modularities[0][0])\n",
    "        \n",
    "    nodes1.sort()\n",
    "    nodes2.sort()\n",
    "    \n",
    "    if newModularity > actualModularity:\n",
    "        break\n",
    "    else:\n",
    "        actualModularity = newModularity"
   ]
  },
  {
   "cell_type": "code",
   "execution_count": 172,
   "metadata": {},
   "outputs": [
    {
     "name": "stdout",
     "output_type": "stream",
     "text": [
      "[697, 703, 708, 729, 745, 769, 772, 774, 803, 804, 810, 811, 819, 823, 825, 830, 863, 864, 876, 889, 893]\n"
     ]
    }
   ],
   "source": [
    "print(nodes1)"
   ]
  },
  {
   "cell_type": "code",
   "execution_count": 173,
   "metadata": {},
   "outputs": [
    {
     "name": "stdout",
     "output_type": "stream",
     "text": [
      "[713, 719, 747, 753, 798, 800, 805, 828, 840, 856, 861, 869, 878, 880, 882, 884, 886, 888, 890]\n"
     ]
    }
   ],
   "source": [
    "print(nodes2)"
   ]
  },
  {
   "cell_type": "code",
   "execution_count": 187,
   "metadata": {},
   "outputs": [
    {
     "name": "stdout",
     "output_type": "stream",
     "text": [
      "The new modularity is -0.11372933884297518\n"
     ]
    }
   ],
   "source": [
    "print(\"The new modularity is \" + str(actualModularity))"
   ]
  },
  {
   "cell_type": "code",
   "execution_count": null,
   "metadata": {},
   "outputs": [],
   "source": []
  }
 ],
 "metadata": {
  "kernelspec": {
   "display_name": "Python 3",
   "language": "python",
   "name": "python3"
  },
  "language_info": {
   "codemirror_mode": {
    "name": "ipython",
    "version": 3
   },
   "file_extension": ".py",
   "mimetype": "text/x-python",
   "name": "python",
   "nbconvert_exporter": "python",
   "pygments_lexer": "ipython3",
   "version": "3.6.5"
  }
 },
 "nbformat": 4,
 "nbformat_minor": 2
}
