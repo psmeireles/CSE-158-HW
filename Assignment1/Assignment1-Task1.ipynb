{
 "cells": [
  {
   "cell_type": "code",
   "execution_count": 4,
   "metadata": {},
   "outputs": [],
   "source": [
    "import gzip\n",
    "import random\n",
    "import matplotlib.pyplot as plt\n",
    "import string\n",
    "import numpy\n",
    "from sklearn import svm\n",
    "from sklearn.model_selection import train_test_split\n",
    "from collections import defaultdict"
   ]
  },
  {
   "cell_type": "markdown",
   "metadata": {},
   "source": [
    "### Purchase"
   ]
  },
  {
   "cell_type": "markdown",
   "metadata": {},
   "source": [
    "#### Assumptions\n",
    "Users will buy items from the same category of items they already bought\n",
    "\n",
    "Users will buy items with average rating bigger than the average of items in the category\n",
    "\n",
    "Users will buy popular items in the category they already bought\n",
    "\n",
    "Users will buy items that have smaller price than the average of the category\n"
   ]
  },
  {
   "cell_type": "markdown",
   "metadata": {},
   "source": [
    "#### Splitting data"
   ]
  },
  {
   "cell_type": "code",
   "execution_count": 5,
   "metadata": {},
   "outputs": [],
   "source": [
    "def readGz(f):\n",
    "  for l in gzip.open(f):\n",
    "    yield eval(l)"
   ]
  },
  {
   "cell_type": "code",
   "execution_count": 6,
   "metadata": {},
   "outputs": [],
   "source": [
    "trainTotal = []\n",
    "for l in readGz(\"train.json.gz\"):\n",
    "    trainTotal.append(l)"
   ]
  },
  {
   "cell_type": "code",
   "execution_count": 7,
   "metadata": {},
   "outputs": [],
   "source": [
    "train = trainTotal[:100000]"
   ]
  },
  {
   "cell_type": "code",
   "execution_count": 36,
   "metadata": {},
   "outputs": [],
   "source": [
    "train = trainTotal"
   ]
  },
  {
   "cell_type": "markdown",
   "metadata": {},
   "source": [
    "#### Getting Users and Items features"
   ]
  },
  {
   "cell_type": "code",
   "execution_count": 8,
   "metadata": {},
   "outputs": [],
   "source": [
    "items = defaultdict(list)\n",
    "usersItems = defaultdict(list)\n",
    "for v in train:\n",
    "    user = v['reviewerID']\n",
    "    itemID = v['itemID']\n",
    "    usersItems[user].append(itemID)\n",
    "    if(items[itemID] == []):\n",
    "        if('price' in v):\n",
    "            items[itemID] = [1, v['rating'], v['categoryID'], v['price']]\n",
    "        else:\n",
    "            items[itemID] = [1, v['rating'], v['categoryID'], -1]\n",
    "    else:\n",
    "        if(items[itemID][3] == -1 and 'price' in v):\n",
    "            items[itemID][3] = v['price']\n",
    "        items[itemID][0] += 1\n",
    "        items[itemID][1] = (items[itemID][1]*(items[itemID][0]-1) + v['rating'] )/items[itemID][0]"
   ]
  },
  {
   "cell_type": "code",
   "execution_count": 9,
   "metadata": {
    "scrolled": false
   },
   "outputs": [],
   "source": [
    "usersFeatures = defaultdict(list)\n",
    "for user in usersItems:\n",
    "    avgPrice = []\n",
    "    avgRating = []\n",
    "    #getting number of items bought per category\n",
    "    uCats = [0,0,0,0,0]\n",
    "    for i in [items[x] for x in usersItems[user]]:\n",
    "        itemRating = i[1]\n",
    "        itemCat = i[2]\n",
    "        itemPrice = i[3]\n",
    "        \n",
    "        avgRating.append(itemRating)\n",
    "        uCats[itemCat] += 1\n",
    "        if itemPrice != -1:\n",
    "            avgPrice.append(itemPrice)\n",
    "            \n",
    "    avgRating = sum(avgRating)/len(avgRating)\n",
    "    if(avgPrice != []):\n",
    "        avgPrice = sum(avgPrice)/len(avgPrice)\n",
    "    else:\n",
    "        avgPrice = -1\n",
    "    \n",
    "    usersFeatures[user] = [len(usersItems[user]), avgRating, uCats, avgPrice]"
   ]
  },
  {
   "cell_type": "code",
   "execution_count": 10,
   "metadata": {},
   "outputs": [],
   "source": [
    "# overall data\n",
    "avgRating = sum([v['rating'] for v in train])/len(train)\n",
    "avgPrice = sum([v['price'] for v in train if 'price' in v])/len([v['price'] for v in train if 'price' in v])"
   ]
  },
  {
   "cell_type": "code",
   "execution_count": 11,
   "metadata": {},
   "outputs": [],
   "source": [
    "avgPurchases = 0\n",
    "for i in items:\n",
    "    avgPurchases += items[i][0]\n",
    "avgPurchases /= len(items)"
   ]
  },
  {
   "cell_type": "code",
   "execution_count": 12,
   "metadata": {
    "scrolled": true
   },
   "outputs": [],
   "source": [
    "mostPopular = []\n",
    "for item in items:\n",
    "    itemPurchases = items[item][0]\n",
    "    mostPopular.append([item, itemPurchases])\n",
    "mostPopular = sorted(mostPopular, key=lambda x:-x[1])"
   ]
  },
  {
   "cell_type": "code",
   "execution_count": 13,
   "metadata": {},
   "outputs": [],
   "source": [
    "catFeats = []\n",
    "for i in range(0,5):\n",
    "    feats = []\n",
    "    for v in [x for x in train if x['categoryID'] == i]:\n",
    "        price = v['price'] if 'price' in v else -1\n",
    "        feats.append([v['rating'], price, v['itemID']])\n",
    "    itemsInCat = list(set([v[2] for v in feats]))\n",
    "    avgPrice = sum([v[1] for v in feats])/len(feats)\n",
    "    avgRating = sum([v[0] for v in feats])/len(feats)\n",
    "    purchases = len(feats)\n",
    "    catFeats.append([purchases, avgRating, avgPrice, len(itemsInCat)])"
   ]
  },
  {
   "cell_type": "code",
   "execution_count": 14,
   "metadata": {},
   "outputs": [],
   "source": [
    "multCatUsers = []\n",
    "for v in usersFeatures:\n",
    "    if(v != 0):\n",
    "        countNon0 = 0\n",
    "        for i in range(0,5):\n",
    "            if usersFeatures[v][2][i] != 0:\n",
    "                countNon0 += 1\n",
    "        if countNon0 > 1:\n",
    "            multCatUsers.append(v)"
   ]
  },
  {
   "cell_type": "code",
   "execution_count": 15,
   "metadata": {},
   "outputs": [],
   "source": [
    "avgUserPurchases = sum([usersFeatures[u][0] for u in usersFeatures])/len([v[0] for v in usersFeatures])"
   ]
  },
  {
   "cell_type": "code",
   "execution_count": 16,
   "metadata": {},
   "outputs": [],
   "source": [
    "max([usersFeatures[u][0] for u in usersFeatures])\n",
    "purchases = [0]*108\n",
    "for v in [usersFeatures[u][0] for u in usersFeatures]:\n",
    "    purchases[v-1] += 1\n",
    "    "
   ]
  },
  {
   "cell_type": "markdown",
   "metadata": {},
   "source": [
    "#### Predicting"
   ]
  },
  {
   "cell_type": "code",
   "execution_count": 14,
   "metadata": {},
   "outputs": [],
   "source": [
    "notPurchased = []\n",
    "i = 0\n",
    "while i < 200000:\n",
    "    user = random.randint(0, 199999)\n",
    "    product = random.randint(0, 199999)\n",
    "    v = {'reviewerID' : 0,\n",
    "        'itemID' : 0}\n",
    "    v['reviewerID'] = trainTotal[user]['reviewerID']\n",
    "    v['itemID'] = trainTotal[product]['itemID']\n",
    "    if v['itemID'] not in usersItems[v['reviewerID']]:\n",
    "        notPurchased.append(v)\n",
    "        i += 1"
   ]
  },
  {
   "cell_type": "code",
   "execution_count": 15,
   "metadata": {},
   "outputs": [],
   "source": [
    "validation = trainTotal + notPurchased"
   ]
  },
  {
   "cell_type": "code",
   "execution_count": 189,
   "metadata": {},
   "outputs": [],
   "source": [
    "def pred(user, item):\n",
    "    if items[item] == []:\n",
    "        return 0\n",
    "    else:\n",
    "        numPurchases = items[item][0]\n",
    "        itemRating = items[item][1]\n",
    "        itemCat = items[item][2]\n",
    "        itemPrice = items[item][3]\n",
    "        \n",
    "        if usersItems[user] == []:\n",
    "            if itemRating > avgRating:\n",
    "                return 1\n",
    "            elif itemCat == 0 and numPurchases > avgPurchases:\n",
    "                return 1\n",
    "            else:\n",
    "                return 0\n",
    "        else:\n",
    "            userData = usersFeatures[user]\n",
    "            countCats = 0\n",
    "            for j in range(0,5):\n",
    "                if userData[2][j] != 0:\n",
    "                    countCats += 1\n",
    "                    \n",
    "                    \n",
    "            if numPurchases < 0.75*avgPurchases:\n",
    "                return 0\n",
    "            elif userData[2][itemCat] != 0:\n",
    "                return 1\n",
    "            #elif itemPrice > catFeats[itemCat][2]:\n",
    "             #   return 0\n",
    "            #elif itemRating < 0.75*catFeats[itemCat][1]:\n",
    "             #   return 0\n",
    "            #elif itemPrice > 2*avgPrice:\n",
    "            #    return 0\n",
    "            ##elif itemRating < 0.6*avgRating:\n",
    "              #  return 0\n",
    "            #elif userData[2][itemCat] != 0:\n",
    "                #return 1\n",
    "     #       elif itemPrice > 1.25*avgPrice:\n",
    "    #            return 0\n",
    "   #         elif numPurchases < 0.5*avgPurchases:\n",
    "  #              return 0\n",
    " #           elif userData[2][itemCat] > 1.0*sum(userData[2])/len(userData[2]):\n",
    "#                return 1\n",
    "            #elif itemRating >= userData[1] and itemPrice <= userData[3]:\n",
    "             #   return 1\n",
    "            #elif mostPopular.index([item, items[item][0]]) < len(mostPopular)/20:\n",
    "             #   return 1\n",
    "            else:\n",
    "                return 0\n",
    "                "
   ]
  },
  {
   "cell_type": "code",
   "execution_count": 190,
   "metadata": {},
   "outputs": [
    {
     "name": "stdout",
     "output_type": "stream",
     "text": [
      "Train Accuracy: 0.78943\n"
     ]
    }
   ],
   "source": [
    "trainPreds = []\n",
    "for v in train:\n",
    "    user = v['reviewerID']\n",
    "    item = v['itemID']\n",
    "    trainPreds.append(pred(user, item))\n",
    "    \n",
    "print(\"Train Accuracy: \" + str(sum(trainPreds)/len(train)))"
   ]
  },
  {
   "cell_type": "code",
   "execution_count": 191,
   "metadata": {},
   "outputs": [
    {
     "name": "stdout",
     "output_type": "stream",
     "text": [
      "Validation Accuracy: 0.52176\n",
      "TP = 60259\n",
      "FP = 55907\n",
      "FN = 39741\n",
      "TN = 44093\n"
     ]
    }
   ],
   "source": [
    "validationPreds = []\n",
    "validationY = []\n",
    "\n",
    "for i in range(0, 200000):\n",
    "    validationY.append(1 - i//100000)\n",
    "for v in validation:\n",
    "    user = v['reviewerID']\n",
    "    item = v['itemID']\n",
    "    validationPreds.append(pred(user, item))\n",
    "    \n",
    "accuracy = []\n",
    "TP = 0\n",
    "TN = 0\n",
    "FP = 0\n",
    "FN = 0\n",
    "for i in range(0, len(validationY)):\n",
    "    if validationPreds[i] == 1 and validationY[i] == 1:\n",
    "        TP += 1\n",
    "    elif validationPreds[i] == 1 and validationY[i] == 0:\n",
    "        FP += 1\n",
    "    elif validationPreds[i] == 0 and validationY[i] == 1:\n",
    "        FN += 1\n",
    "    elif validationPreds[i] == 0 and validationY[i] == 0:\n",
    "        TN += 1\n",
    "    accuracy.append(validationPreds[i] == validationY[i])\n",
    "accuracy = sum(accuracy)/len(accuracy)\n",
    "print(\"Validation Accuracy: \" + str(accuracy))\n",
    "print(\"TP = \" + str(TP))\n",
    "print(\"FP = \" + str(FP))\n",
    "print(\"FN = \" + str(FN))\n",
    "print(\"TN = \" + str(TN))"
   ]
  },
  {
   "cell_type": "code",
   "execution_count": 309,
   "metadata": {},
   "outputs": [],
   "source": [
    "predictions = open(\"predictions_Purchase.txt\", 'w')\n",
    "for l in open(\"pairs_Purchase.txt\"):\n",
    "    if l.startswith(\"reviewerID\"):\n",
    "        #header\n",
    "        predictions.write(l)\n",
    "        continue\n",
    "    u,i = l.strip().split('-')\n",
    "\n",
    "    predictions.write(u + '-' + i + \",\" + str(pred(u, i)) + \"\\n\")\n",
    "    \n",
    "\n",
    "predictions.close()"
   ]
  },
  {
   "cell_type": "markdown",
   "metadata": {},
   "source": [
    "#### SVM"
   ]
  },
  {
   "cell_type": "code",
   "execution_count": 16,
   "metadata": {},
   "outputs": [],
   "source": [
    "mostPopularItems = [v[0] for v in mostPopular[:len(mostPopular)//2]]"
   ]
  },
  {
   "cell_type": "code",
   "execution_count": 17,
   "metadata": {},
   "outputs": [],
   "source": [
    "X = []\n",
    "y = []\n",
    "for v in validation:\n",
    "    user = v['reviewerID']\n",
    "    item = v['itemID']\n",
    "    #userFeatures[user] = [userPurchases, avgRating, [userCats], avgPrice]\n",
    "    userData = usersFeatures[user]\n",
    "    isPopular = item in mostPopularItems\n",
    "    #items[item] = [itemPurchases, avgRating, itemCat, itemPrice]\n",
    "    if item in items and items[item] != []:\n",
    "        nPurchs = items[item][0]\n",
    "        itemCategory = items[item][2]\n",
    "    else:\n",
    "        nPurchs = 0\n",
    "        itemCategory = 0\n",
    "    X.append([itemCategory, isPopular, nPurchs])\n",
    "    y.append(1 if len(v) != 2 else 0)"
   ]
  },
  {
   "cell_type": "code",
   "execution_count": 18,
   "metadata": {},
   "outputs": [],
   "source": [
    "X_train, X_test, y_train, y_test = train_test_split(X, y, test_size=0.5)"
   ]
  },
  {
   "cell_type": "code",
   "execution_count": 30,
   "metadata": {},
   "outputs": [],
   "source": [
    "clf = svm.LinearSVC(C=10)\n",
    "clf.fit(X_train, y_train)\n",
    "train_predictions = clf.predict(X_train) \n",
    "test_predictions = clf.predict(X_test)"
   ]
  },
  {
   "cell_type": "code",
   "execution_count": 31,
   "metadata": {},
   "outputs": [],
   "source": [
    "trainAcc = []\n",
    "testAcc = []\n",
    "for i in range(0, len(train_predictions)):\n",
    "    trainAcc.append(train_predictions[i] == y_train[i])\n",
    "    testAcc.append(test_predictions[i] == y_test[i])\n",
    "trainAcc = sum(trainAcc)/len(trainAcc)\n",
    "testAcc = sum(testAcc)/len(testAcc)"
   ]
  },
  {
   "cell_type": "code",
   "execution_count": 32,
   "metadata": {},
   "outputs": [
    {
     "name": "stdout",
     "output_type": "stream",
     "text": [
      "Train Accuracy: 0.498425\n",
      "Test Accuracy: 0.501575\n"
     ]
    }
   ],
   "source": [
    "print('Train Accuracy: ' + str(trainAcc))\n",
    "print('Test Accuracy: ' + str(testAcc))"
   ]
  },
  {
   "cell_type": "code",
   "execution_count": 35,
   "metadata": {},
   "outputs": [
    {
     "data": {
      "text/plain": [
       "200000"
      ]
     },
     "execution_count": 35,
     "metadata": {},
     "output_type": "execute_result"
    }
   ],
   "source": [
    "len([x for x in train_predictions if x == 1])"
   ]
  },
  {
   "cell_type": "code",
   "execution_count": 57,
   "metadata": {},
   "outputs": [],
   "source": [
    "X_test = []\n",
    "for l in open(\"pairs_Purchase.txt\"):\n",
    "    if l.startswith(\"reviewerID\"):\n",
    "        continue\n",
    "    u,i = l.strip().split('-')\n",
    "\n",
    "    userData = usersFeatures[user]\n",
    "    X_test.append(items[item] + [userData[0]] + [userData[1]] + [userData[3]])\n",
    "    \n",
    "y_test = clf.predict(X_test)\n",
    "\n",
    "predictions = open(\"predictions_Purchase.txt\", 'w')\n",
    "index = 0\n",
    "for l in open(\"pairs_Purchase.txt\"):\n",
    "    if l.startswith(\"reviewerID\"):\n",
    "        #header\n",
    "        predictions.write(l)\n",
    "        continue\n",
    "    u,i = l.strip().split('-')\n",
    "    \n",
    "    predictions.write(u + '-' + i + \",\" + str(y_test[index]) + \"\\n\")\n",
    "    index += 1\n",
    "\n",
    "predictions.close()"
   ]
  },
  {
   "cell_type": "markdown",
   "metadata": {},
   "source": [
    "#### Linear Regression"
   ]
  },
  {
   "cell_type": "code",
   "execution_count": null,
   "metadata": {},
   "outputs": [],
   "source": [
    "theta,residuals,rank,s = numpy.linalg.lstsq(X_train, y_train)\n",
    "train_predictions = X_train*theta\n",
    "accuracy = []\n",
    "for i in range(0, len(train_predictions)):\n",
    "    accuracy.append(train_predictions[i] == y_train[i])\n",
    "print(sum(accuracy)/len(accuracy))\n",
    "\n",
    "test_predictions = X_test*theta\n",
    "accuracy = []\n",
    "for i in range(0, len(test_predictions)):\n",
    "    accuracy.append(test_predictions[i] == y_test[i])\n",
    "print(sum(accuracy)/len(accuracy))"
   ]
  },
  {
   "cell_type": "markdown",
   "metadata": {},
   "source": [
    "#### Jaccard"
   ]
  },
  {
   "cell_type": "code",
   "execution_count": 17,
   "metadata": {},
   "outputs": [],
   "source": [
    "itemUsers = defaultdict(list)\n",
    "usersIndex = defaultdict(int)\n",
    "itemsIndex = defaultdict(int)\n",
    "\n",
    "i = 0\n",
    "for u in usersItems:\n",
    "    usersIndex[u] = i\n",
    "    i += 1\n",
    "    \n",
    "i = 0\n",
    "for item in items:\n",
    "    itemsIndex[item] = i\n",
    "    itemUsers[item] = [0] * len(usersIndex)\n",
    "    i += 1"
   ]
  },
  {
   "cell_type": "code",
   "execution_count": 18,
   "metadata": {},
   "outputs": [],
   "source": [
    "for v in train:\n",
    "    item = v['itemID']\n",
    "    u = v['reviewerID']\n",
    "    rating = v['rating']\n",
    "    itemUsers[item][usersIndex[u]] = rating"
   ]
  },
  {
   "cell_type": "code",
   "execution_count": 2,
   "metadata": {},
   "outputs": [
    {
     "ename": "TypeError",
     "evalue": "'int' object is not iterable",
     "output_type": "error",
     "traceback": [
      "\u001b[1;31m---------------------------------------------------------------------------\u001b[0m",
      "\u001b[1;31mTypeError\u001b[0m                                 Traceback (most recent call last)",
      "\u001b[1;32m<ipython-input-2-cc46341bf1a2>\u001b[0m in \u001b[0;36m<module>\u001b[1;34m()\u001b[0m\n\u001b[1;32m----> 1\u001b[1;33m \u001b[0ma\u001b[0m \u001b[1;33m=\u001b[0m \u001b[0mset\u001b[0m\u001b[1;33m(\u001b[0m\u001b[1;36m1\u001b[0m\u001b[1;33m)\u001b[0m\u001b[1;33m\u001b[0m\u001b[0m\n\u001b[0m\u001b[0;32m      2\u001b[0m \u001b[0mb\u001b[0m \u001b[1;33m=\u001b[0m \u001b[0mset\u001b[0m\u001b[1;33m(\u001b[0m\u001b[1;36m1\u001b[0m\u001b[1;33m,\u001b[0m\u001b[1;36m2\u001b[0m\u001b[1;33m)\u001b[0m\u001b[1;33m\u001b[0m\u001b[0m\n",
      "\u001b[1;31mTypeError\u001b[0m: 'int' object is not iterable"
     ]
    }
   ],
   "source": []
  },
  {
   "cell_type": "code",
   "execution_count": 19,
   "metadata": {},
   "outputs": [
    {
     "ename": "KeyboardInterrupt",
     "evalue": "",
     "output_type": "error",
     "traceback": [
      "\u001b[1;31m---------------------------------------------------------------------------\u001b[0m",
      "\u001b[1;31mKeyboardInterrupt\u001b[0m                         Traceback (most recent call last)",
      "\u001b[1;32m<ipython-input-19-edf5446ab297>\u001b[0m in \u001b[0;36m<module>\u001b[1;34m()\u001b[0m\n\u001b[0;32m      9\u001b[0m                 \u001b[1;32mif\u001b[0m\u001b[1;33m(\u001b[0m\u001b[0mitemUsers\u001b[0m\u001b[1;33m[\u001b[0m\u001b[0mitem\u001b[0m\u001b[1;33m]\u001b[0m\u001b[1;33m[\u001b[0m\u001b[0mj\u001b[0m\u001b[1;33m]\u001b[0m \u001b[1;33m>\u001b[0m \u001b[1;36m0\u001b[0m \u001b[1;32mor\u001b[0m \u001b[0mitemUsers\u001b[0m\u001b[1;33m[\u001b[0m\u001b[0mi\u001b[0m\u001b[1;33m]\u001b[0m\u001b[1;33m[\u001b[0m\u001b[0mj\u001b[0m\u001b[1;33m]\u001b[0m \u001b[1;33m>\u001b[0m \u001b[1;36m0\u001b[0m\u001b[1;33m)\u001b[0m\u001b[1;33m:\u001b[0m\u001b[1;33m\u001b[0m\u001b[0m\n\u001b[0;32m     10\u001b[0m                     \u001b[0munion\u001b[0m\u001b[1;33m.\u001b[0m\u001b[0madd\u001b[0m\u001b[1;33m(\u001b[0m\u001b[0mj\u001b[0m\u001b[1;33m)\u001b[0m\u001b[1;33m\u001b[0m\u001b[0m\n\u001b[1;32m---> 11\u001b[1;33m                 \u001b[1;32mif\u001b[0m\u001b[1;33m(\u001b[0m\u001b[0mitemUsers\u001b[0m\u001b[1;33m[\u001b[0m\u001b[0mitem\u001b[0m\u001b[1;33m]\u001b[0m\u001b[1;33m[\u001b[0m\u001b[0mj\u001b[0m\u001b[1;33m]\u001b[0m \u001b[1;33m>\u001b[0m \u001b[1;36m0\u001b[0m \u001b[1;32mand\u001b[0m \u001b[0mitemUsers\u001b[0m\u001b[1;33m[\u001b[0m\u001b[0mi\u001b[0m\u001b[1;33m]\u001b[0m\u001b[1;33m[\u001b[0m\u001b[0mj\u001b[0m\u001b[1;33m]\u001b[0m \u001b[1;33m>\u001b[0m \u001b[1;36m0\u001b[0m\u001b[1;33m)\u001b[0m\u001b[1;33m:\u001b[0m\u001b[1;33m\u001b[0m\u001b[0m\n\u001b[0m\u001b[0;32m     12\u001b[0m                     \u001b[0mintersection\u001b[0m\u001b[1;33m.\u001b[0m\u001b[0madd\u001b[0m\u001b[1;33m(\u001b[0m\u001b[0mj\u001b[0m\u001b[1;33m)\u001b[0m\u001b[1;33m\u001b[0m\u001b[0m\n\u001b[0;32m     13\u001b[0m             \u001b[0mjaccard\u001b[0m\u001b[1;33m.\u001b[0m\u001b[0mappend\u001b[0m\u001b[1;33m(\u001b[0m\u001b[1;33m[\u001b[0m\u001b[0mi\u001b[0m\u001b[1;33m,\u001b[0m \u001b[0mlen\u001b[0m\u001b[1;33m(\u001b[0m\u001b[0mintersection\u001b[0m\u001b[1;33m)\u001b[0m\u001b[1;33m/\u001b[0m\u001b[0mlen\u001b[0m\u001b[1;33m(\u001b[0m\u001b[0munion\u001b[0m\u001b[1;33m)\u001b[0m\u001b[1;33m]\u001b[0m\u001b[1;33m)\u001b[0m\u001b[1;33m\u001b[0m\u001b[0m\n",
      "\u001b[1;31mKeyboardInterrupt\u001b[0m: "
     ]
    }
   ],
   "source": [
    "itemsJaccards = defaultdict(list)\n",
    "for item in itemUsers:\n",
    "    jaccard = []\n",
    "    for i in itemUsers:\n",
    "        if i != item:\n",
    "            union = set()\n",
    "            intersection = set()\n",
    "            for j in range(0, len(itemUsers[item])):\n",
    "                if(itemUsers[item][j] > 0 or itemUsers[i][j] > 0):\n",
    "                    union.add(j)\n",
    "                if(itemUsers[item][j] > 0 and itemUsers[i][j] > 0):\n",
    "                    intersection.add(j)\n",
    "            jaccard.append([i, len(intersection)/len(union)])\n",
    "    jaccard = sorted(jaccard, key=lambda x:-x[1])\n",
    "    itemsJaccards[item] = jaccard"
   ]
  },
  {
   "cell_type": "code",
   "execution_count": null,
   "metadata": {},
   "outputs": [],
   "source": [
    "itemsJaccards"
   ]
  },
  {
   "cell_type": "code",
   "execution_count": 13,
   "metadata": {},
   "outputs": [],
   "source": [
    "def pred(user, item):\n",
    "    if items[item] == []:\n",
    "        return 0\n",
    "    else:\n",
    "        numPurchases = items[item][0]\n",
    "        itemRating = items[item][1]\n",
    "        itemCat = items[item][2]\n",
    "        itemPrice = items[item][3]\n",
    "        \n",
    "        if usersItems[user] == []:\n",
    "            if itemRating > avgRating:\n",
    "                return 1\n",
    "            elif itemCat == 0 and numPurchases > avgPurchases:\n",
    "                return 1\n",
    "            else:\n",
    "                return 0\n",
    "        else:\n",
    "            userPurchases = usersItems[user]\n",
    "            \n",
    "            if any(userPurchases in itemsJaccards[item][:10]):\n",
    "                return 1\n",
    "            else:\n",
    "                return 0\n",
    "                "
   ]
  },
  {
   "cell_type": "code",
   "execution_count": 134,
   "metadata": {},
   "outputs": [
    {
     "name": "stdout",
     "output_type": "stream",
     "text": [
      "Train Accuracy: 0.465225\n"
     ]
    }
   ],
   "source": [
    "trainPreds = []\n",
    "for v in train:\n",
    "    user = v['reviewerID']\n",
    "    item = v['itemID']\n",
    "    trainPreds.append(pred(user, item))\n",
    "    \n",
    "print(\"Train Accuracy: \" + str(sum(trainPreds)/len(train)))"
   ]
  },
  {
   "cell_type": "code",
   "execution_count": 16,
   "metadata": {},
   "outputs": [
    {
     "name": "stdout",
     "output_type": "stream",
     "text": [
      "Validation Accuracy: 0.553015\n",
      "TP = 50546\n",
      "FP = 39943\n",
      "FN = 49454\n",
      "TN = 60057\n"
     ]
    }
   ],
   "source": [
    "validationPreds = []\n",
    "validationY = []\n",
    "\n",
    "for i in range(0, 200000):\n",
    "    validationY.append(1 - i//100000)\n",
    "for v in validation:\n",
    "    user = v['reviewerID']\n",
    "    item = v['itemID']\n",
    "    validationPreds.append(pred(user, item))\n",
    "    \n",
    "accuracy = []\n",
    "TP = 0\n",
    "TN = 0\n",
    "FP = 0\n",
    "FN = 0\n",
    "for i in range(0, len(validationY)):\n",
    "    if validationPreds[i] == 1 and validationY[i] == 1:\n",
    "        TP += 1\n",
    "    elif validationPreds[i] == 1 and validationY[i] == 0:\n",
    "        FP += 1\n",
    "    elif validationPreds[i] == 0 and validationY[i] == 1:\n",
    "        FN += 1\n",
    "    elif validationPreds[i] == 0 and validationY[i] == 0:\n",
    "        TN += 1\n",
    "    accuracy.append(validationPreds[i] == validationY[i])\n",
    "accuracy = sum(accuracy)/len(accuracy)\n",
    "print(\"Validation Accuracy: \" + str(accuracy))\n",
    "print(\"TP = \" + str(TP))\n",
    "print(\"FP = \" + str(FP))\n",
    "print(\"FN = \" + str(FN))\n",
    "print(\"TN = \" + str(TN))"
   ]
  },
  {
   "cell_type": "code",
   "execution_count": 108,
   "metadata": {},
   "outputs": [],
   "source": [
    "predictions = open(\"predictions_Purchase.txt\", 'w')\n",
    "for l in open(\"pairs_Purchase.txt\"):\n",
    "    if l.startswith(\"reviewerID\"):\n",
    "        #header\n",
    "        predictions.write(l)\n",
    "        continue\n",
    "    u,i = l.strip().split('-')\n",
    "\n",
    "    predictions.write(u + '-' + i + \",\" + str(pred(u, i)) + \"\\n\")\n",
    "    \n",
    "\n",
    "predictions.close()"
   ]
  }
 ],
 "metadata": {
  "kernelspec": {
   "display_name": "Python 3",
   "language": "python",
   "name": "python3"
  },
  "language_info": {
   "codemirror_mode": {
    "name": "ipython",
    "version": 3
   },
   "file_extension": ".py",
   "mimetype": "text/x-python",
   "name": "python",
   "nbconvert_exporter": "python",
   "pygments_lexer": "ipython3",
   "version": "3.6.5"
  }
 },
 "nbformat": 4,
 "nbformat_minor": 2
}
