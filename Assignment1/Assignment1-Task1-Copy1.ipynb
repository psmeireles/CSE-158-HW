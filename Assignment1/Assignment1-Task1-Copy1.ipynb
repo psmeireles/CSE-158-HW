{
 "cells": [
  {
   "cell_type": "code",
   "execution_count": 1,
   "metadata": {},
   "outputs": [],
   "source": [
    "import gzip\n",
    "import random\n",
    "import matplotlib.pyplot as plt\n",
    "import string\n",
    "import numpy\n",
    "from sklearn import svm\n",
    "from sklearn.model_selection import train_test_split\n",
    "from sklearn.metrics import accuracy_score\n",
    "from collections import defaultdict"
   ]
  },
  {
   "cell_type": "markdown",
   "metadata": {},
   "source": [
    "### Purchase"
   ]
  },
  {
   "cell_type": "markdown",
   "metadata": {},
   "source": [
    "#### Splitting data"
   ]
  },
  {
   "cell_type": "code",
   "execution_count": 3,
   "metadata": {},
   "outputs": [],
   "source": [
    "def readGz(f):\n",
    "  for l in gzip.open(f):\n",
    "    yield eval(l)"
   ]
  },
  {
   "cell_type": "code",
   "execution_count": 4,
   "metadata": {},
   "outputs": [],
   "source": [
    "data = []\n",
    "for l in readGz(\"train.json.gz\"):\n",
    "    data.append(l)"
   ]
  },
  {
   "cell_type": "code",
   "execution_count": 117,
   "metadata": {},
   "outputs": [],
   "source": [
    "train, validation, y_train, y_validation = train_test_split(data, [1]*len(data), test_size=0.5)"
   ]
  },
  {
   "cell_type": "code",
   "execution_count": 221,
   "metadata": {},
   "outputs": [],
   "source": [
    "train = data"
   ]
  },
  {
   "cell_type": "code",
   "execution_count": 222,
   "metadata": {},
   "outputs": [],
   "source": [
    "items = defaultdict(list)\n",
    "for v in train:\n",
    "    itemCat = v['categoryID']\n",
    "    itemID = v['itemID']\n",
    "    if items[itemID] == []:\n",
    "        items[itemID] = [itemCat, 1]\n",
    "    else:\n",
    "        items[itemID][1] += 1"
   ]
  },
  {
   "cell_type": "code",
   "execution_count": 223,
   "metadata": {},
   "outputs": [],
   "source": [
    "users = defaultdict(list)\n",
    "for v in train:\n",
    "    userID = v['reviewerID']\n",
    "    itemCat = v['categoryID']\n",
    "    if users[userID] == []:\n",
    "        users[userID] = [1, [0,0,0,0,0]]\n",
    "    else:\n",
    "        users[userID][0] += 1\n",
    "    users[userID][1][itemCat] += 1"
   ]
  },
  {
   "cell_type": "code",
   "execution_count": 224,
   "metadata": {},
   "outputs": [],
   "source": [
    "mostCommonItems = []\n",
    "for v in items:\n",
    "    mostCommonItems.append([v, items[v][1]/len(train)])\n",
    "    \n",
    "mostCommonItems = sorted(mostCommonItems, key= lambda x:-x[1])\n",
    "mostCommonItems = [v[0] for v in mostCommonItems]"
   ]
  },
  {
   "cell_type": "code",
   "execution_count": 225,
   "metadata": {},
   "outputs": [],
   "source": [
    "notPurchased = []\n",
    "pairs = []\n",
    "count = 0\n",
    "while count < 200000:\n",
    "    user = random.randint(0, 199999)\n",
    "    product = random.randint(0, 199999)\n",
    "    v = {'reviewerID' : 0,\n",
    "        'itemID' : 0}\n",
    "    v['reviewerID'] = data[user]['reviewerID']\n",
    "    v['itemID'] = data[product]['itemID']\n",
    "    #if [v['reviewerID'], v['itemID']] not in pairs:\n",
    "    notPurchased.append(v)\n",
    "        #pairs.append([v['reviewerID'], v['itemID']])\n",
    "    count += 1"
   ]
  },
  {
   "cell_type": "code",
   "execution_count": 226,
   "metadata": {},
   "outputs": [],
   "source": [
    "train = data + notPurchased"
   ]
  },
  {
   "cell_type": "code",
   "execution_count": 227,
   "metadata": {},
   "outputs": [],
   "source": [
    "y_train = [1]*len(data) + [0]*len(notPurchased) "
   ]
  },
  {
   "cell_type": "code",
   "execution_count": 122,
   "metadata": {},
   "outputs": [],
   "source": [
    "train = train + notPurchased[:100000]\n",
    "validation = validation + notPurchased[100000:]"
   ]
  },
  {
   "cell_type": "code",
   "execution_count": 123,
   "metadata": {},
   "outputs": [],
   "source": [
    "y_train = y_train + [0]*100000\n",
    "y_validation = y_validation + [0]*100000"
   ]
  },
  {
   "cell_type": "code",
   "execution_count": 228,
   "metadata": {},
   "outputs": [],
   "source": [
    "X_train = []\n",
    "for v in train:\n",
    "    itemID = v['itemID']\n",
    "    userID = v['reviewerID']\n",
    "    if itemID in items:\n",
    "        nPurchases = items[itemID][1]\n",
    "        itemCat = items[itemID][0]\n",
    "        isPopular = int(mostCommonItems.index(itemID) < len(mostCommonItems)//2)\n",
    "    else:\n",
    "        nPurchases = 0\n",
    "        itemCat = 0\n",
    "        isPopular = 0\n",
    "    if userID in users:\n",
    "        userPurchases = users[userID][0]\n",
    "        userCat = users[userID][1].index(max(users[userID][1]))\n",
    "    else:\n",
    "        userPurchases = 0\n",
    "        userCat = 0\n",
    "    X_train.append([1, nPurchases, itemCat, userPurchases, isPopular, userCat])"
   ]
  },
  {
   "cell_type": "code",
   "execution_count": 229,
   "metadata": {},
   "outputs": [],
   "source": [
    "X_validation = []\n",
    "\n",
    "    \n",
    "for v in validation:\n",
    "    itemID = v['itemID']\n",
    "    userID = v['reviewerID']\n",
    "    if itemID in items:\n",
    "        nPurchases = items[itemID][1]\n",
    "        itemCat = items[itemID][0]\n",
    "        isPopular = int(mostCommonItems.index(itemID) < len(mostCommonItems)//2)\n",
    "    else:\n",
    "        nPurchases = 0\n",
    "        itemCat = 0\n",
    "        isPopular = 0\n",
    "        \n",
    "    if userID in users:\n",
    "        userPurchases = users[userID][0]\n",
    "        userCat = users[userID][1].index(max(users[userID][1]))\n",
    "    else:\n",
    "        userPurchases = 0\n",
    "        userCat = 0\n",
    "    X_validation.append([1,nPurchases,itemCat, userPurchases, isPopular, userCat])"
   ]
  },
  {
   "cell_type": "code",
   "execution_count": 111,
   "metadata": {},
   "outputs": [
    {
     "name": "stdout",
     "output_type": "stream",
     "text": [
      "C = 0.01:\n",
      "Train: 0.5277675\n",
      "\n"
     ]
    }
   ],
   "source": [
    "svms = []\n",
    "for c in [0.01]:\n",
    "    clf = svm.LinearSVC(C=c)\n",
    "    clf.fit(X_train, y_train)\n",
    "    train_predictions = clf.predict(X_train) \n",
    "    #validation_predictions = clf.predict(X_validation)\n",
    "    trainAcc = accuracy_score(y_train, train_predictions)\n",
    "    #validationAcc = accuracy_score(y_validation, validation_predictions)\n",
    "    print('C = ' + str(c) + ':')\n",
    "    print('Train: ' + str(trainAcc))\n",
    "    #print('Validation: ' + str(validationAcc))\n",
    "    print()\n",
    "    svms.append(clf)"
   ]
  },
  {
   "cell_type": "markdown",
   "metadata": {},
   "source": [
    "#### Getting Users and Items features"
   ]
  },
  {
   "cell_type": "code",
   "execution_count": 112,
   "metadata": {},
   "outputs": [],
   "source": [
    "X_test = []\n",
    "for l in open(\"pairs_Purchase.txt\"):\n",
    "    if l.startswith(\"reviewerID\"):\n",
    "        #header\n",
    "        #predictions.write(l)\n",
    "        continue\n",
    "    u,i = l.strip().split('-')\n",
    "\n",
    "    itemID = i\n",
    "    userID = u\n",
    "    if itemID in items:\n",
    "        nPurchases = items[itemID][1]\n",
    "        itemCat = items[itemID][0]\n",
    "        #isPopular = int(mostCommonItems.index(itemID) < len(mostCommonItems)//5)\n",
    "    else:\n",
    "        nPurchases = 0\n",
    "        itemCat = 0\n",
    "        isPopular = 0\n",
    "    if userID in users:\n",
    "        userPurchases = users[userID]\n",
    "    else:\n",
    "        userPurchases = 0\n",
    "    X_test.append([nPurchases, userPurchases])"
   ]
  },
  {
   "cell_type": "code",
   "execution_count": 113,
   "metadata": {},
   "outputs": [],
   "source": [
    "y_test = clf.predict(X_test)"
   ]
  },
  {
   "cell_type": "code",
   "execution_count": 115,
   "metadata": {},
   "outputs": [
    {
     "data": {
      "text/plain": [
       "6196"
      ]
     },
     "execution_count": 115,
     "metadata": {},
     "output_type": "execute_result"
    }
   ],
   "source": [
    "len([x for x in y_test if x == 0])"
   ]
  },
  {
   "cell_type": "code",
   "execution_count": 116,
   "metadata": {},
   "outputs": [],
   "source": [
    "index = 0\n",
    "predictions = open(\"predictions_Purchase.txt\", 'w')\n",
    "for l in open(\"pairs_Purchase.txt\"):\n",
    "    if l.startswith(\"reviewerID\"):\n",
    "        #header\n",
    "        predictions.write(l)\n",
    "        continue\n",
    "    u,i = l.strip().split('-')\n",
    "\n",
    "    predictions.write(u + '-' + i + \",\" + str(y_test[index]) + \"\\n\")\n",
    "    index += 1\n",
    "predictions.close()"
   ]
  },
  {
   "cell_type": "markdown",
   "metadata": {},
   "source": [
    "#### Linear Regression"
   ]
  },
  {
   "cell_type": "code",
   "execution_count": 230,
   "metadata": {},
   "outputs": [
    {
     "name": "stderr",
     "output_type": "stream",
     "text": [
      "D:\\Program Files (x86)\\Microsoft Visual Studio\\Shared\\Anaconda3_64\\lib\\site-packages\\ipykernel_launcher.py:1: FutureWarning: `rcond` parameter will change to the default of machine precision times ``max(M, N)`` where M and N are the input matrix dimensions.\n",
      "To use the future default and silence this warning we advise to pass `rcond=None`, to keep using the old, explicitly pass `rcond=-1`.\n",
      "  \"\"\"Entry point for launching an IPython kernel.\n"
     ]
    }
   ],
   "source": [
    "theta,residuals,rank,s = numpy.linalg.lstsq(X_train, y_train)"
   ]
  },
  {
   "cell_type": "code",
   "execution_count": 231,
   "metadata": {},
   "outputs": [
    {
     "data": {
      "text/plain": [
       "array([ 5.00523905e-01, -1.01353888e-05, -5.64223045e-05,  6.31537726e-05,\n",
       "       -6.96583821e-04, -6.62998595e-04])"
      ]
     },
     "execution_count": 231,
     "metadata": {},
     "output_type": "execute_result"
    }
   ],
   "source": [
    "theta"
   ]
  },
  {
   "cell_type": "code",
   "execution_count": 232,
   "metadata": {},
   "outputs": [],
   "source": [
    "train_predictions = []\n",
    "for v in X_train:\n",
    "    x = sum(v*theta)\n",
    "    if x > 0.5:\n",
    "        x = 1\n",
    "    else:\n",
    "        x = 0\n",
    "    train_predictions.append(x)\n",
    "trainAcc = accuracy_score(y_train, train_predictions)\n",
    "\n"
   ]
  },
  {
   "cell_type": "code",
   "execution_count": 233,
   "metadata": {},
   "outputs": [],
   "source": [
    "validation_predictions = []\n",
    "for v in X_validation:\n",
    "    x = sum(v*theta)\n",
    "    if x > 0.5:\n",
    "        x = 1\n",
    "    else:\n",
    "        x = 0\n",
    "    validation_predictions.append(x)\n",
    "validationAcc = accuracy_score(y_validation, validation_predictions)"
   ]
  },
  {
   "cell_type": "code",
   "execution_count": 234,
   "metadata": {},
   "outputs": [
    {
     "name": "stdout",
     "output_type": "stream",
     "text": [
      "Train: 0.50357\n",
      "Validation: 0.50362\n"
     ]
    }
   ],
   "source": [
    "print('Train: ' + str(trainAcc))\n",
    "print('Validation: ' + str(validationAcc))"
   ]
  },
  {
   "cell_type": "code",
   "execution_count": 235,
   "metadata": {},
   "outputs": [],
   "source": [
    "X_test = []\n",
    "for l in open(\"pairs_Purchase.txt\"):\n",
    "    if l.startswith(\"reviewerID\"):\n",
    "        #header\n",
    "        #predictions.write(l)\n",
    "        continue\n",
    "    u,i = l.strip().split('-')\n",
    "\n",
    "    itemID = i\n",
    "    userID = u\n",
    "    if itemID in items:\n",
    "        nPurchases = items[itemID][1]\n",
    "        itemCat = items[itemID][0]\n",
    "        isPopular = int(mostCommonItems.index(itemID) < len(mostCommonItems)//2)\n",
    "    else:\n",
    "        nPurchases = 0\n",
    "        itemCat = 0\n",
    "        isPopular = 0\n",
    "    if userID in users:\n",
    "        userPurchases = users[userID][0]\n",
    "        userCat = users[userID][1].index(max(users[userID][1]))\n",
    "    else:\n",
    "        userPurchases = 0\n",
    "        userCat = 0\n",
    "    X_test.append([1,nPurchases,itemCat, userPurchases, isPopular, userCat])"
   ]
  },
  {
   "cell_type": "code",
   "execution_count": 236,
   "metadata": {},
   "outputs": [],
   "source": [
    "y_test = []\n",
    "for v in X_test:\n",
    "    x = sum(v*theta)\n",
    "    if x > 0.5:\n",
    "        x = 1\n",
    "    else:\n",
    "        x = 0\n",
    "    y_test.append(x)"
   ]
  },
  {
   "cell_type": "code",
   "execution_count": 238,
   "metadata": {},
   "outputs": [
    {
     "data": {
      "text/plain": [
       "13078"
      ]
     },
     "execution_count": 238,
     "metadata": {},
     "output_type": "execute_result"
    }
   ],
   "source": [
    "len([x for x in y_test if x == 0])"
   ]
  },
  {
   "cell_type": "code",
   "execution_count": 239,
   "metadata": {},
   "outputs": [],
   "source": [
    "index = 0\n",
    "predictions = open(\"predictions_Purchase.txt\", 'w')\n",
    "for l in open(\"pairs_Purchase.txt\"):\n",
    "    if l.startswith(\"reviewerID\"):\n",
    "        #header\n",
    "        predictions.write(l)\n",
    "        continue\n",
    "    u,i = l.strip().split('-')\n",
    "\n",
    "    predictions.write(u + '-' + i + \",\" + str(y_test[index]) + \"\\n\")\n",
    "    index += 1\n",
    "predictions.close()"
   ]
  },
  {
   "cell_type": "code",
   "execution_count": null,
   "metadata": {},
   "outputs": [],
   "source": []
  }
 ],
 "metadata": {
  "kernelspec": {
   "display_name": "Python 3",
   "language": "python",
   "name": "python3"
  },
  "language_info": {
   "codemirror_mode": {
    "name": "ipython",
    "version": 3
   },
   "file_extension": ".py",
   "mimetype": "text/x-python",
   "name": "python",
   "nbconvert_exporter": "python",
   "pygments_lexer": "ipython3",
   "version": "3.6.5"
  }
 },
 "nbformat": 4,
 "nbformat_minor": 2
}
