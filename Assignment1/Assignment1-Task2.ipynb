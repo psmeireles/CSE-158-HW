{
 "cells": [
  {
   "cell_type": "code",
   "execution_count": 40,
   "metadata": {},
   "outputs": [],
   "source": [
    "import gzip\n",
    "import random\n",
    "import matplotlib.pyplot as plt\n",
    "import string\n",
    "import nltk\n",
    "import numpy\n",
    "from sklearn import svm\n",
    "from sklearn.metrics import accuracy_score\n",
    "from sklearn.neighbors import KNeighborsClassifier\n",
    "from sklearn.model_selection import train_test_split\n",
    "from sklearn.cluster import KMeans\n",
    "from collections import defaultdict"
   ]
  },
  {
   "cell_type": "markdown",
   "metadata": {},
   "source": [
    "### Purchase"
   ]
  },
  {
   "cell_type": "markdown",
   "metadata": {},
   "source": [
    "#### Splitting data"
   ]
  },
  {
   "cell_type": "code",
   "execution_count": 2,
   "metadata": {},
   "outputs": [],
   "source": [
    "def readGz(f):\n",
    "  for l in gzip.open(f):\n",
    "    yield eval(l)"
   ]
  },
  {
   "cell_type": "code",
   "execution_count": 3,
   "metadata": {},
   "outputs": [],
   "source": [
    "data = []\n",
    "for l in readGz(\"train.json.gz\"):\n",
    "    data.append(l)"
   ]
  },
  {
   "cell_type": "code",
   "execution_count": 4,
   "metadata": {},
   "outputs": [],
   "source": [
    "train = data[:100000]"
   ]
  },
  {
   "cell_type": "markdown",
   "metadata": {},
   "source": [
    "#### Getting Users and Items features"
   ]
  },
  {
   "cell_type": "code",
   "execution_count": 5,
   "metadata": {},
   "outputs": [],
   "source": [
    "items = defaultdict(list)\n",
    "usersItems = defaultdict(list)\n",
    "for v in train:\n",
    "    user = v['reviewerID']\n",
    "    itemID = v['itemID']\n",
    "    usersItems[user].append(itemID)\n",
    "    if(items[itemID] == []):\n",
    "        if('price' in v):\n",
    "            items[itemID] = [1, v['rating'], v['categoryID'], v['price']]\n",
    "        else:\n",
    "            items[itemID] = [1, v['rating'], v['categoryID'], -1]\n",
    "    else:\n",
    "        if(items[itemID][3] == -1 and 'price' in v):\n",
    "            items[itemID][3] = v['price']\n",
    "        items[itemID][0] += 1\n",
    "        items[itemID][1] = (items[itemID][1]*(items[itemID][0]-1) + v['rating'] )/items[itemID][0]"
   ]
  },
  {
   "cell_type": "code",
   "execution_count": 6,
   "metadata": {
    "scrolled": false
   },
   "outputs": [],
   "source": [
    "usersFeatures = defaultdict(list)\n",
    "for user in usersItems:\n",
    "    avgPrice = []\n",
    "    avgRating = []\n",
    "    #getting number of items bought per category\n",
    "    uCats = [0,0,0,0,0]\n",
    "    for i in [items[x] for x in usersItems[user]]:\n",
    "        itemRating = i[1]\n",
    "        itemCat = i[2]\n",
    "        itemPrice = i[3]\n",
    "        \n",
    "        avgRating.append(itemRating)\n",
    "        uCats[itemCat] += 1\n",
    "        if itemPrice != -1:\n",
    "            avgPrice.append(itemPrice)\n",
    "            \n",
    "    avgRating = sum(avgRating)/len(avgRating)\n",
    "    if(avgPrice != []):\n",
    "        avgPrice = sum(avgPrice)/len(avgPrice)\n",
    "    else:\n",
    "        avgPrice = -1\n",
    "    \n",
    "    usersFeatures[user] = [len(usersItems[user]), avgRating, uCats, avgPrice]"
   ]
  },
  {
   "cell_type": "code",
   "execution_count": 7,
   "metadata": {},
   "outputs": [],
   "source": [
    "# overall data\n",
    "avgRating = sum([v['rating'] for v in train])/len(train)\n",
    "avgPrice = sum([v['price'] for v in train if 'price' in v])/len([v['price'] for v in train if 'price' in v])"
   ]
  },
  {
   "cell_type": "code",
   "execution_count": 8,
   "metadata": {},
   "outputs": [],
   "source": [
    "avgPurchases = 0\n",
    "for i in items:\n",
    "    avgPurchases += items[i][0]\n",
    "avgPurchases /= len(items)"
   ]
  },
  {
   "cell_type": "code",
   "execution_count": 9,
   "metadata": {
    "scrolled": true
   },
   "outputs": [],
   "source": [
    "mostPopular = []\n",
    "for item in items:\n",
    "    itemPurchases = items[item][0]\n",
    "    mostPopular.append([item, itemPurchases])\n",
    "mostPopular = sorted(mostPopular, key=lambda x:-x[1])"
   ]
  },
  {
   "cell_type": "markdown",
   "metadata": {},
   "source": [
    "### Question 6"
   ]
  },
  {
   "cell_type": "code",
   "execution_count": 20,
   "metadata": {},
   "outputs": [],
   "source": [
    "#nltk.download('stopwords')\n",
    "stops = set(nltk.corpus.stopwords.words(\"english\"))"
   ]
  },
  {
   "cell_type": "code",
   "execution_count": 21,
   "metadata": {},
   "outputs": [],
   "source": [
    "wordCount = defaultdict(int)\n",
    "punctuation = set(string.punctuation)\n",
    "for v in train:\n",
    "    r = ''.join([c for c in v['reviewText'].lower() if not c in punctuation])\n",
    "    for w in r.split():\n",
    "        if w not in stops:\n",
    "            wordCount[w] += 1"
   ]
  },
  {
   "cell_type": "code",
   "execution_count": 22,
   "metadata": {},
   "outputs": [],
   "source": [
    "wordCount = [(wordCount[w], w) for w in wordCount]\n",
    "wordCount.sort()\n",
    "wordCount.reverse()"
   ]
  },
  {
   "cell_type": "code",
   "execution_count": 23,
   "metadata": {},
   "outputs": [],
   "source": [
    "totalWords = sum([v[0] for v in wordCount])"
   ]
  },
  {
   "cell_type": "code",
   "execution_count": 24,
   "metadata": {},
   "outputs": [],
   "source": [
    "frequency = [(v[0]/totalWords, v[1]) for v in wordCount]"
   ]
  },
  {
   "cell_type": "code",
   "execution_count": 26,
   "metadata": {},
   "outputs": [],
   "source": [
    "train = data[:10000]"
   ]
  },
  {
   "cell_type": "code",
   "execution_count": 27,
   "metadata": {},
   "outputs": [],
   "source": [
    "catWordCount = [defaultdict(int), defaultdict(int), defaultdict(int), defaultdict(int), defaultdict(int)]\n",
    "catTotalWords = [0, 0, 0, 0, 0]\n",
    "catFrequency = []\n",
    "for i in range(0, 5):\n",
    "    for v in [v for v in train if v['categoryID'] == i]:\n",
    "        r = ''.join([c for c in v['reviewText'].lower() if not c in punctuation])\n",
    "        for w in r.split():\n",
    "            if w not in stops:\n",
    "                catWordCount[i][w] += 1\n",
    "    \n",
    "    catWordCount[i] = [(catWordCount[i][w], w) for w in catWordCount[i]]\n",
    "    catWordCount[i].sort()\n",
    "    catWordCount[i].reverse()\n",
    "    \n",
    "    catTotalWords[i] = sum([v[0] for v in catWordCount[i]])\n",
    "    catFrequency.append([(v[0]/catTotalWords[i], v[1]) for v in catWordCount[i]])"
   ]
  },
  {
   "cell_type": "code",
   "execution_count": 28,
   "metadata": {},
   "outputs": [
    {
     "name": "stdout",
     "output_type": "stream",
     "text": [
      "CategoryID = 0\n",
      "like - 0.0007435798517148318\n",
      "size - 0.000987219988863773\n",
      "wear - 0.0015023452869715407\n",
      "fit - 0.00019422137192087914\n",
      "love - 0.001970423975895151\n",
      "great - -1.5671500178185416e-06\n",
      "would - 0.0005144242690138393\n",
      "comfortable - 0.000617626027785232\n",
      "good - -0.0007634278315510291\n",
      "well - -0.0007377992204788096\n",
      "\n",
      "CategoryID = 1\n",
      "great - 0.0009385949786824225\n",
      "like - -0.0011315121688540743\n",
      "fit - -0.00017393209593557016\n",
      "good - 0.0023114784103487147\n",
      "size - -0.0025232482613693555\n",
      "well - 0.0009425016044954538\n",
      "wear - -0.003049354818995994\n",
      "comfortable - -0.00034845593192095545\n",
      "shoes - 0.00017643356198081533\n",
      "one - -0.00016550243465549008\n",
      "\n",
      "CategoryID = 2\n",
      "size - 0.002295690578360184\n",
      "great - 0.002036195219520146\n",
      "daughter - 0.010265789015847116\n",
      "fit - 3.096993744747083e-05\n",
      "like - -0.0012394986791288646\n",
      "well - 0.0026628004880501228\n",
      "old - 0.007435301628700777\n",
      "would - 0.0005125431406813831\n",
      "small - 0.0037091593080769945\n",
      "bought - 0.002528429957027946\n",
      "\n",
      "CategoryID = 3\n",
      "son - 0.014237189969292501\n",
      "old - 0.013814964973163466\n",
      "good - 0.006500648742807264\n",
      "fit - 0.0031171865560569115\n",
      "size - 6.952337479262417e-05\n",
      "well - 0.00292339457140821\n",
      "bought - 0.004429966305900277\n",
      "quality - 0.005100614401044793\n",
      "wear - -0.001776947208437362\n",
      "great - -0.0007316163416073995\n",
      "\n",
      "CategoryID = 4\n",
      "little - 0.007190974765802934\n",
      "great - 0.001901266447869216\n",
      "fit - 0.0009562054912669888\n",
      "cute - 0.007861388430197581\n",
      "well - 0.002582413059992631\n",
      "soft - 0.0073680844216102645\n",
      "baby - 0.00892501697694851\n",
      "size - -0.00199808347978238\n",
      "good - 0.0015567235756723365\n",
      "like - -0.0026087306182954583\n",
      "\n"
     ]
    }
   ],
   "source": [
    "for i in range(0, 5):\n",
    "    print('CategoryID = ' + str(i))\n",
    "    for v in catFrequency[i][:10]:\n",
    "        f = v[0] - [x[0] for x in frequency if x[1] == v[1]][0]\n",
    "        print(v[1] + ' - ' + str(f))\n",
    "    print()"
   ]
  },
  {
   "cell_type": "markdown",
   "metadata": {},
   "source": [
    "### Question 7"
   ]
  },
  {
   "cell_type": "code",
   "execution_count": 30,
   "metadata": {},
   "outputs": [],
   "source": [
    "validation = subSet[10000:20000]"
   ]
  },
  {
   "cell_type": "code",
   "execution_count": 31,
   "metadata": {},
   "outputs": [],
   "source": [
    "X_train = []\n",
    "y_train = []\n",
    "X_validation = []\n",
    "y_validation = []\n",
    "for v in train:\n",
    "    if v['categoryID'] != 0:\n",
    "        v['categoryID'] = 1\n",
    "    features = []\n",
    "    for i in range(0, 500):\n",
    "        features.append(frequency[i][1] in v['reviewText'])\n",
    "    features.append(v['rating'])\n",
    "    y_train.append(v['categoryID'])\n",
    "    X_train.append(features)\n",
    "    \n",
    "        \n",
    "for v in validation:\n",
    "    if v['categoryID'] != 0:\n",
    "        v['categoryID'] = 1\n",
    "    features = []\n",
    "    for i in range(0, 500):\n",
    "        features.append(frequency[i][1] in v['reviewText'])\n",
    "    features.append(v['rating'])\n",
    "    y_validation.append(v['categoryID'])\n",
    "    X_validation.append(features)"
   ]
  },
  {
   "cell_type": "code",
   "execution_count": 46,
   "metadata": {},
   "outputs": [],
   "source": [
    "kmeans = KMeans(n_clusters=5).fit(X_train, y_train)"
   ]
  },
  {
   "cell_type": "code",
   "execution_count": 47,
   "metadata": {},
   "outputs": [],
   "source": [
    "trainPred = kmeans.predict(X_train)"
   ]
  },
  {
   "cell_type": "code",
   "execution_count": 32,
   "metadata": {
    "scrolled": true
   },
   "outputs": [
    {
     "name": "stderr",
     "output_type": "stream",
     "text": [
      "D:\\Program Files (x86)\\Microsoft Visual Studio\\Shared\\Anaconda3_64\\lib\\site-packages\\ipykernel_launcher.py:1: FutureWarning: `rcond` parameter will change to the default of machine precision times ``max(M, N)`` where M and N are the input matrix dimensions.\n",
      "To use the future default and silence this warning we advise to pass `rcond=None`, to keep using the old, explicitly pass `rcond=-1`.\n",
      "  \"\"\"Entry point for launching an IPython kernel.\n"
     ]
    }
   ],
   "source": [
    "thetas = []\n",
    "\n",
    "theta,residuals,rank,s = numpy.linalg.lstsq(X_train, y_train)"
   ]
  },
  {
   "cell_type": "code",
   "execution_count": 34,
   "metadata": {},
   "outputs": [],
   "source": [
    "trainPred = []\n",
    "for v in X_train:\n",
    "    trainPred.append(sum(v*theta))"
   ]
  },
  {
   "cell_type": "code",
   "execution_count": 36,
   "metadata": {},
   "outputs": [],
   "source": [
    "for i in range(0, len(trainPred)):\n",
    "    if trainPred[i] < 0.5:\n",
    "        trainPred[i] = 0\n",
    "    else:\n",
    "        trainPred[i] = 1\n",
    "    "
   ]
  },
  {
   "cell_type": "code",
   "execution_count": 48,
   "metadata": {},
   "outputs": [
    {
     "data": {
      "text/plain": [
       "0.1733"
      ]
     },
     "execution_count": 48,
     "metadata": {},
     "output_type": "execute_result"
    }
   ],
   "source": [
    "accuracy_score(y_train, trainPred)"
   ]
  },
  {
   "cell_type": "code",
   "execution_count": 126,
   "metadata": {},
   "outputs": [],
   "source": [
    "test = []\n",
    "for l in readGz(\"test_Category.json.gz\"):\n",
    "    test.append(l)"
   ]
  },
  {
   "cell_type": "code",
   "execution_count": 127,
   "metadata": {},
   "outputs": [],
   "source": [
    "X_test=[]\n",
    "for v in test:\n",
    "    features = []\n",
    "    for i in range(0, 500):\n",
    "        features.append(frequency[i][1] in v['reviewText'])\n",
    "    X_test.append(features)"
   ]
  },
  {
   "cell_type": "code",
   "execution_count": 50,
   "metadata": {},
   "outputs": [],
   "source": [
    "preds = clf.predict(X_test)"
   ]
  },
  {
   "cell_type": "code",
   "execution_count": 53,
   "metadata": {
    "scrolled": true
   },
   "outputs": [],
   "source": [
    "predictions = open(\"predictions_Category.txt\", 'w')\n",
    "i = 0\n",
    "for l in open(\"pairs_Category.txt\"):\n",
    "    if l.startswith(\"reviewerID\"):\n",
    "        #header\n",
    "        predictions.write(l)\n",
    "        continue\n",
    "    u,r = l.strip().split('-')\n",
    "    \n",
    "    \n",
    "    predictions.write(u + '-' + r + ',' + str(preds[i]) + '\\n')\n",
    "    i += 1\n",
    "predictions.close()"
   ]
  },
  {
   "cell_type": "markdown",
   "metadata": {},
   "source": [
    "The best performance was an accuracy of 0.7933 using C = 10"
   ]
  },
  {
   "cell_type": "markdown",
   "metadata": {},
   "source": [
    "### Question 8"
   ]
  },
  {
   "cell_type": "code",
   "execution_count": 57,
   "metadata": {},
   "outputs": [],
   "source": [
    "newTrain = train[:10000]\n",
    "newValidation = validation[:10000]"
   ]
  },
  {
   "cell_type": "code",
   "execution_count": 61,
   "metadata": {},
   "outputs": [
    {
     "name": "stdout",
     "output_type": "stream",
     "text": [
      "0.1\n",
      "Category = 0\n",
      "Fit done\n",
      "Category = 1\n",
      "Fit done\n",
      "Category = 2\n",
      "Fit done\n",
      "Category = 3\n",
      "Fit done\n",
      "Category = 4\n",
      "Fit done\n",
      "Predicting\n",
      "Finished\n",
      "\n"
     ]
    }
   ],
   "source": [
    "allPredictions = []\n",
    "allSvms = []\n",
    "realValidationY = [v['categoryID'] for v in newValidation]\n",
    "for c in [0.1]:#, 0.1, 1, 10, 100]:\n",
    "    svms = []\n",
    "    print(str(c))\n",
    "    for i in range(0, 5):\n",
    "        print('Category = ' + str(i))\n",
    "        X_train = []\n",
    "        y_train = []\n",
    "        X_validation = []\n",
    "        y_validation = []\n",
    "        for v in newTrain:\n",
    "            if v['categoryID'] != i:\n",
    "                v['categoryID'] = (i+1)%5\n",
    "            features = []\n",
    "            for j in range(0, 500):\n",
    "                features.append(frequency[j][1] in v['reviewText'])\n",
    "            y_train.append(v['categoryID'])\n",
    "            X_train.append(features)\n",
    "\n",
    "\n",
    "        for v in newValidation:\n",
    "            if v['categoryID'] != i:\n",
    "                v['categoryID'] = (i+1)%5\n",
    "            features = []\n",
    "            for j in range(0, 500):\n",
    "                features.append(frequency[j][1] in v['reviewText'])\n",
    "            y_validation.append(v['categoryID'])\n",
    "            X_validation.append(features)\n",
    "\n",
    "        test_accuracies = []\n",
    "\n",
    "        clf = svm.LinearSVC(C=c)\n",
    "        clf.fit(X_train, y_train)\n",
    "        print('Fit done')\n",
    "        svms.append(clf)\n",
    "        \n",
    "    test_predictions = []\n",
    "    print('Predicting')\n",
    "    for v in X_validation:\n",
    "        confidency = [svms[j].decision_function([v]) for j in range(0, 5)]\n",
    "        posConf = [x for x in confidency if x > 0]\n",
    "        posConf.sort()\n",
    "        if posConf == []:\n",
    "            test_predictions.append(0)\n",
    "        else:\n",
    "            test_predictions.append(confidency.index(posConf[0]))\n",
    "    allPredictions.append([c, test_predictions])\n",
    "    allSvms.append(svms)\n",
    "    print('Finished')\n",
    "    print()"
   ]
  },
  {
   "cell_type": "code",
   "execution_count": 62,
   "metadata": {},
   "outputs": [],
   "source": [
    "test_accuracies = []\n",
    "for v in allPredictions:\n",
    "    predicted = v[1]\n",
    "    accuracy = []\n",
    "    for i in range(0, len(predicted)):\n",
    "        accuracy.append(predicted[i] == realValidationY[i])\n",
    "    test_accuracies.append((v[0], sum(accuracy)/len(accuracy)))"
   ]
  },
  {
   "cell_type": "code",
   "execution_count": 63,
   "metadata": {},
   "outputs": [
    {
     "data": {
      "text/plain": [
       "[(0.1, 0.1528)]"
      ]
     },
     "execution_count": 63,
     "metadata": {},
     "output_type": "execute_result"
    }
   ],
   "source": [
    "test_accuracies"
   ]
  },
  {
   "cell_type": "code",
   "execution_count": 15,
   "metadata": {},
   "outputs": [],
   "source": [
    "test = []\n",
    "for l in readGz(\"test_Category.json.gz\"):\n",
    "    test.append(l)"
   ]
  },
  {
   "cell_type": "code",
   "execution_count": 19,
   "metadata": {},
   "outputs": [
    {
     "data": {
      "text/plain": [
       "{'reviewTime': '03 21, 2012',\n",
       " 'reviewText': 'I wanted a formal watch that had a big face and this definitely was the coolest watch out there with a great price! I have gotten many compliments on this watch. You will have to go to a jeweler or watch store to get it sized once you get it. My only complaint is that the turn dial on the face makes squeaky noises when you move around the watch.',\n",
       " 'helpful': {'nHelpful': 0, 'outOf': 0},\n",
       " 'reviewerID': 'U433746872',\n",
       " 'reviewHash': 'R750304163',\n",
       " 'unixReviewTime': 1332288000,\n",
       " 'rating': 5.0,\n",
       " 'summary': 'Bold, Large-face Watch'}"
      ]
     },
     "execution_count": 19,
     "metadata": {},
     "output_type": "execute_result"
    }
   ],
   "source": [
    "test[2]"
   ]
  },
  {
   "cell_type": "code",
   "execution_count": 56,
   "metadata": {},
   "outputs": [],
   "source": [
    "X_test=[]\n",
    "for v in test:\n",
    "    features = []\n",
    "    for i in range(0, 500):\n",
    "        features.append(frequency[i][1] in v['reviewText'])\n",
    "    X_test.append(features)"
   ]
  },
  {
   "cell_type": "code",
   "execution_count": 60,
   "metadata": {
    "scrolled": true
   },
   "outputs": [],
   "source": [
    "predictions = open(\"predictions_Category.txt\", 'w')\n",
    "i = 0\n",
    "for l in open(\"pairs_Category.txt\"):\n",
    "    if l.startswith(\"reviewerID\"):\n",
    "        #header\n",
    "        predictions.write(l)\n",
    "        continue\n",
    "    u,r = l.strip().split('-')\n",
    "    \n",
    "    confidency = [allSvms[3][j].decision_function([X_test[i]]) for j in range(0, 5)]\n",
    "    posConf = [x for x in confidency if x > 0]\n",
    "    posConf.sort()\n",
    "    if posConf == []:\n",
    "        predictions.write(u + '-' + r + ',0\\n')\n",
    "    else:\n",
    "        predictions.write(u + '-' + r + ',' + str(confidency.index(posConf[0])) + '\\n')\n",
    "    i += 1\n",
    "predictions.close()"
   ]
  },
  {
   "cell_type": "code",
   "execution_count": null,
   "metadata": {},
   "outputs": [],
   "source": []
  },
  {
   "cell_type": "code",
   "execution_count": null,
   "metadata": {},
   "outputs": [],
   "source": []
  },
  {
   "cell_type": "code",
   "execution_count": 104,
   "metadata": {},
   "outputs": [],
   "source": [
    "categories = [[],[],[],[],[]]\n",
    "for v in train:\n",
    "    cats = [y for x in v['categories'] for y in x]\n",
    "    for x in cats:\n",
    "        categories[v['categoryID']].append(x)"
   ]
  },
  {
   "cell_type": "code",
   "execution_count": 111,
   "metadata": {},
   "outputs": [],
   "source": [
    "for i in range(0,5):\n",
    "    categories[i] = list(set(categories[i]))"
   ]
  },
  {
   "cell_type": "code",
   "execution_count": 118,
   "metadata": {},
   "outputs": [],
   "source": [
    "for i in range(0,5):\n",
    "    for cat in categories[i]:\n",
    "        for j in range(0,5):\n",
    "            if i != j:\n",
    "                if cat in categories[j]:\n",
    "                    categories[j].remove(cat)\n",
    "                if cat in categories[i]:\n",
    "                    categories[i].remove(cat)"
   ]
  },
  {
   "cell_type": "code",
   "execution_count": 119,
   "metadata": {},
   "outputs": [
    {
     "data": {
      "text/plain": [
       "[['Berets',\n",
       "  'Plugs',\n",
       "  'Babydolls',\n",
       "  'Marc by Marc Jacobs',\n",
       "  'Wedding',\n",
       "  'LifeStride',\n",
       "  'Shoulder Bags',\n",
       "  'Brooches & Pins',\n",
       "  'LeSportsac',\n",
       "  'Rafters',\n",
       "  'Multitools',\n",
       "  'Miz Mooz',\n",
       "  'Boy Meets Girl',\n",
       "  'California Magdesians',\n",
       "  'Blazers',\n",
       "  'Easy Street',\n",
       "  'E',\n",
       "  'Luggage & Travel Gear',\n",
       "  'Anne Klein',\n",
       "  'Socks & Hosiery',\n",
       "  'Food Service',\n",
       "  'Bodysuits',\n",
       "  'EMU Australia',\n",
       "  'Drop & Dangle',\n",
       "  'Trench & Rain',\n",
       "  'Down & Parkas',\n",
       "  'The SAK',\n",
       "  'Shells',\n",
       "  'Swatch Watches',\n",
       "  'GUESS? Watches',\n",
       "  'Bustiers & Corsets',\n",
       "  'Anniversary Rings',\n",
       "  'Bead',\n",
       "  'Exotic Apparel',\n",
       "  'Z',\n",
       "  'Bomber Hats',\n",
       "  'ECCO',\n",
       "  'Capri Pants',\n",
       "  'Pearl Strands',\n",
       "  'Football',\n",
       "  'Yoga',\n",
       "  'BCBGeneration',\n",
       "  'Tracksuits',\n",
       "  'Wrap',\n",
       "  'Night Out & Cocktail',\n",
       "  'Barbells',\n",
       "  'Tights',\n",
       "  'Rocket Dog',\n",
       "  'Betsey Johnson',\n",
       "  'Dr. Martens',\n",
       "  'Fine Jewelry',\n",
       "  'N.Y.L.A.',\n",
       "  'Suits & Blazers',\n",
       "  'Tights & Hosiery',\n",
       "  'Envirosax',\n",
       "  'Other Sports',\n",
       "  'Motorcycle',\n",
       "  'Pendants',\n",
       "  'STEVEN by Steve Madden',\n",
       "  'Timeless Designer Jewelry',\n",
       "  'Athena Alexander',\n",
       "  'Insulated',\n",
       "  'Screws',\n",
       "  'Kitchen Utensils & Gadgets',\n",
       "  'Hosiery',\n",
       "  'MIA',\n",
       "  'Handbag Hangers',\n",
       "  'Brooks',\n",
       "  'Unitards',\n",
       "  'Fur & Faux Fur',\n",
       "  'Hobo',\n",
       "  'David Tate',\n",
       "  'Gentle Souls',\n",
       "  'Toe Rings',\n",
       "  'O',\n",
       "  'Messenger Bags',\n",
       "  'Northside',\n",
       "  'Hiking & Trekking',\n",
       "  'Polo Shirts',\n",
       "  'Two Lips',\n",
       "  'Dreams',\n",
       "  'Styling Accessories',\n",
       "  'Tracksuits & Sweatsuits',\n",
       "  'Nightgowns & Sleepshirts',\n",
       "  'Penthouse',\n",
       "  'Anklets',\n",
       "  'FLY London',\n",
       "  'Socks & Insoles',\n",
       "  'Leg Avenue',\n",
       "  'School Uniforms',\n",
       "  'Caterpillar',\n",
       "  'Nursing & Maternity Bras',\n",
       "  'Armwarmers',\n",
       "  'Staheekum',\n",
       "  'Rieker',\n",
       "  'Panties',\n",
       "  'Swimsuits & Cover Ups',\n",
       "  'Wear to Work',\n",
       "  'FitFlop',\n",
       "  'Timex test',\n",
       "  'Personal Protective Equipment',\n",
       "  'Diamond Sale',\n",
       "  'Worishofer',\n",
       "  'Industrial & Construction',\n",
       "  'Silver Jewelry',\n",
       "  'Charms',\n",
       "  'Dingo',\n",
       "  'Rain Footwear',\n",
       "  'Summer Promo',\n",
       "  'Fine',\n",
       "  'Combat',\n",
       "  'G by GUESS',\n",
       "  'Naturalizer',\n",
       "  'Link',\n",
       "  'Garter Belts',\n",
       "  'Dolce Vita',\n",
       "  'Boutique Designer Jewelry',\n",
       "  'Pant Liner Slips',\n",
       "  'SoftWalk',\n",
       "  'Anoraks',\n",
       "  'Skateboarding',\n",
       "  'Circa Joan & David',\n",
       "  'Protective Workwear',\n",
       "  'Franco Sarto',\n",
       "  'Me Too',\n",
       "  'Free One-Day Shipping on Jewelry',\n",
       "  'Cargo Shorts',\n",
       "  'Contemporary',\n",
       "  'Manitobah Mukluks',\n",
       "  'Chains',\n",
       "  'HKNB Heidi Klum for New Balance',\n",
       "  'Boy Shorts',\n",
       "  'Blouses & Button-Down Shirts',\n",
       "  'Luichiny',\n",
       "  'Jewelry: International Shipping Available',\n",
       "  'Hipsters',\n",
       "  'Miss Me',\n",
       "  'Ball',\n",
       "  'Lingerie Tape',\n",
       "  'Control Slips',\n",
       "  'Armitron',\n",
       "  'Ryka',\n",
       "  'Thigh Slimmers',\n",
       "  'Hand Tools',\n",
       "  'Hair Care',\n",
       "  'dollhouse',\n",
       "  'Pleaser',\n",
       "  'Dressing Aids',\n",
       "  'Gold Jewelry',\n",
       "  'Breeches',\n",
       "  'Headwraps',\n",
       "  'Jack Rogers',\n",
       "  'Hiking Shoes',\n",
       "  'Pads & Enhancers',\n",
       "  'Tunics',\n",
       "  'Rampage',\n",
       "  'Fascinators',\n",
       "  'TSUBO',\n",
       "  'Waist Cinchers',\n",
       "  'Prescription Eyewear Frames',\n",
       "  'Jumpsuits, Rompers & Overalls',\n",
       "  'Charms & Charm Bracelets',\n",
       "  'Spring Step',\n",
       "  'BIG BUDDHA',\n",
       "  'Safety & Security',\n",
       "  'La Regale',\n",
       "  'Lingerie',\n",
       "  'Muck Boot',\n",
       "  'Active Hoodies',\n",
       "  'Half Slips',\n",
       "  'Three-Stone Jewelry',\n",
       "  'Inspirational Jewelry',\n",
       "  'Track Jackets',\n",
       "  'Privo',\n",
       "  'Volatile',\n",
       "  'Top-Handle Bags',\n",
       "  'Wraps & Pashminas',\n",
       "  'Earmuffs',\n",
       "  'Klogs',\n",
       "  'Travel Totes',\n",
       "  'Tracy Reese',\n",
       "  'Pregnancy & Maternity',\n",
       "  'Baffin',\n",
       "  'Coconuts by Matisse',\n",
       "  'Denim Jackets',\n",
       "  'Patagonia',\n",
       "  'VANELi',\n",
       "  'Arm Warmers',\n",
       "  'Piercing Jewelry',\n",
       "  'bebe',\n",
       "  'Eastland',\n",
       "  'Eyeglass Cases',\n",
       "  'Hats & Caps',\n",
       "  'Cross-Body Bags',\n",
       "  'Kenneth Cole New York',\n",
       "  'Via Spiga',\n",
       "  'Breda',\n",
       "  'Dyeables',\n",
       "  'Jerseys',\n",
       "  'Amazon Curated Collection',\n",
       "  'Slipper Socks',\n",
       "  'Blazers & Jackets',\n",
       "  'Bra Extenders',\n",
       "  'Cover-Ups',\n",
       "  'Promise Rings',\n",
       "  'Active Base Layers',\n",
       "  'Sun Hats',\n",
       "  'Full Price',\n",
       "  'Nina',\n",
       "  'New Jewelry',\n",
       "  'Sweatpants',\n",
       "  'Golf',\n",
       "  'Soda',\n",
       "  'Isaac Mizrahi',\n",
       "  'Shapewear',\n",
       "  'T.U.K.',\n",
       "  'Wallets',\n",
       "  'Jambu',\n",
       "  'Seychelles',\n",
       "  'Pearl Jewelry',\n",
       "  'Bracelets',\n",
       "  'Travel Wallets',\n",
       "  'Riding',\n",
       "  'J.Renee',\n",
       "  'Nine West',\n",
       "  'Camisoles',\n",
       "  'Three, Five & Seven Stone Jewelry',\n",
       "  'AmeriBag',\n",
       "  'Lockets',\n",
       "  'nicole',\n",
       "  'Handbag Accessories',\n",
       "  'Home & Kitchen',\n",
       "  'Rug Making & Latch Hook',\n",
       "  'Daily Living Aids',\n",
       "  'Fashion Hoodies',\n",
       "  'Drew Shoe',\n",
       "  'cobian',\n",
       "  'Cole Haan',\n",
       "  'Night Out & Special Occasion',\n",
       "  'Glaze',\n",
       "  'Tankinis',\n",
       "  'Baseball Caps',\n",
       "  'indigo by Clarks',\n",
       "  'Khombu',\n",
       "  'V',\n",
       "  'Wedding & Engagement',\n",
       "  'Sbicca',\n",
       "  'Petticoats',\n",
       "  '7 For All Mankind',\n",
       "  'Five-Stone Jewelry',\n",
       "  'Plain Bands',\n",
       "  'Vitalio Vera',\n",
       "  'Evening Bags',\n",
       "  'Checkbook Covers',\n",
       "  'Diamond Accented',\n",
       "  'Pierre Dumas',\n",
       "  'Gifts',\n",
       "  'Gifts for Women',\n",
       "  'Anuschka',\n",
       "  'Bras',\n",
       "  'Prada',\n",
       "  'Adhesive Bras',\n",
       "  'G-Strings',\n",
       "  'Plus-Size',\n",
       "  'Newsboy Caps',\n",
       "  'Spring Event',\n",
       "  'Petite',\n",
       "  'Active Sweatshirts',\n",
       "  'Ellen Tracy',\n",
       "  'Handbags & Wallets',\n",
       "  'J-41',\n",
       "  'El Naturalista',\n",
       "  'Fall Event',\n",
       "  'DKNY',\n",
       "  'Ed Hardy',\n",
       "  'G-Strings, Thongs & Tangas',\n",
       "  'Fashion Sweatshirts',\n",
       "  'BC Footwear',\n",
       "  'Tunnels',\n",
       "  'French Connection',\n",
       "  'Daniel Green',\n",
       "  'Equestrian Sport Boots',\n",
       "  'Fifty Watches Under $50',\n",
       "  'Hush Puppies',\n",
       "  'Spa Slippers',\n",
       "  'Wristlets',\n",
       "  'Blondo',\n",
       "  'Buttons & Pins',\n",
       "  'Coats & Jackets',\n",
       "  'Sunglasses & Eyewear',\n",
       "  'Boating & Water Sports',\n",
       "  'Basketball',\n",
       "  'Multitools & Accessories'],\n",
       " ['Plugs',\n",
       "  'Household Supplies',\n",
       "  'Q',\n",
       "  'Luxury Watches',\n",
       "  'Etnies',\n",
       "  'Multitools',\n",
       "  'E',\n",
       "  \"Men's Athletic Watches\",\n",
       "  'Luggage & Travel Gear',\n",
       "  'Buttons & Snaps',\n",
       "  'Food Service',\n",
       "  'Neckties',\n",
       "  'Trench & Rain',\n",
       "  'Shells',\n",
       "  'Wolverine',\n",
       "  'Trunks',\n",
       "  'Exotic Apparel',\n",
       "  'ECCO',\n",
       "  'Cotton',\n",
       "  'Yoga',\n",
       "  'Handkerchiefs',\n",
       "  'Barbells',\n",
       "  'Dr. Martens',\n",
       "  'Money Clips',\n",
       "  'Suit Jackets',\n",
       "  'Five Ten',\n",
       "  'Flat Front',\n",
       "  'Desk Accessories & Workspace Organizers',\n",
       "  'Motorcycle',\n",
       "  'Sunbelt',\n",
       "  'Insulated',\n",
       "  'Screws',\n",
       "  'Brooks',\n",
       "  'Work Wear',\n",
       "  'Rocawear',\n",
       "  'Toe Rings',\n",
       "  'O',\n",
       "  'Northside',\n",
       "  'Hiking & Trekking',\n",
       "  'Polo Shirts',\n",
       "  'Sleep Bottoms',\n",
       "  'Hunting',\n",
       "  'Caterpillar',\n",
       "  'UNIONBAY',\n",
       "  'Wrestling',\n",
       "  'Timex test',\n",
       "  'Scarves',\n",
       "  'Personal Protective Equipment',\n",
       "  'Industrial & Construction',\n",
       "  'Rain Footwear',\n",
       "  'Combat',\n",
       "  'Link',\n",
       "  'Skateboarding',\n",
       "  'Belt Buckles',\n",
       "  'Cold Weather Scarves',\n",
       "  'Cargo Shorts',\n",
       "  'Simple',\n",
       "  'Tie Clips',\n",
       "  'JiMarti',\n",
       "  'Jewelry: International Shipping Available',\n",
       "  'Suit Pants',\n",
       "  'Armitron',\n",
       "  'Hand Tools',\n",
       "  'Shimano',\n",
       "  'Nunn Bush',\n",
       "  'Beanies & Knit Hats',\n",
       "  'Hiking Shoes',\n",
       "  'Hugo Boss',\n",
       "  'Danner',\n",
       "  'Prescription Eyewear Frames',\n",
       "  'Safety & Security',\n",
       "  'Active Hoodies',\n",
       "  'Identification',\n",
       "  'Watch Winders',\n",
       "  'Track Jackets',\n",
       "  'adidas Originals',\n",
       "  'Earmuffs',\n",
       "  'Baffin',\n",
       "  'Piercing Jewelry',\n",
       "  'C1RCA',\n",
       "  'Cargo',\n",
       "  'Laredo',\n",
       "  'Eyeglass Cases',\n",
       "  'Hats & Caps',\n",
       "  'Kenneth Cole New York',\n",
       "  'Jerseys',\n",
       "  'Amazon Curated Collection',\n",
       "  'Overalls',\n",
       "  'Clothing Accessories',\n",
       "  'Active Base Layers',\n",
       "  'Sun Hats',\n",
       "  'New Jewelry',\n",
       "  'Sweatpants',\n",
       "  'Golf',\n",
       "  'Wallets',\n",
       "  'Undershirts',\n",
       "  'Kena Kai',\n",
       "  'Bracelets',\n",
       "  'Travel Wallets',\n",
       "  'Tools',\n",
       "  'Union Suits',\n",
       "  'Surf, Skate & Street',\n",
       "  'Inov-8',\n",
       "  'Bow Ties',\n",
       "  'Lab Coats',\n",
       "  'Fashion Hoodies',\n",
       "  'Cole Haan',\n",
       "  'Baseball Caps',\n",
       "  'Backpacking Boots',\n",
       "  'V',\n",
       "  'Caps & Hats',\n",
       "  'Bostonian',\n",
       "  'Red Wing Shoes',\n",
       "  'Office Products',\n",
       "  'London Fog',\n",
       "  'Gifts',\n",
       "  'Wellco',\n",
       "  'Diesel',\n",
       "  'Newsboy Caps',\n",
       "  'Active Sweatshirts',\n",
       "  'Fall Event',\n",
       "  'Orient',\n",
       "  'Rider',\n",
       "  'John Deere',\n",
       "  'Fifty Watches Under $50',\n",
       "  'Hush Puppies',\n",
       "  'Spa Slippers',\n",
       "  'Big & Tall',\n",
       "  'Buttons & Pins',\n",
       "  'Sunglasses & Eyewear',\n",
       "  'Boating & Water Sports',\n",
       "  'Basketball',\n",
       "  'Multitools & Accessories'],\n",
       " ['Cheerleading',\n",
       "  'Western Chief',\n",
       "  'Jackets',\n",
       "  'Luggage & Travel Gear',\n",
       "  'Baby Girls',\n",
       "  'Cold Weather',\n",
       "  'School Uniforms',\n",
       "  'Panties',\n",
       "  'Jewelry Accessories',\n",
       "  'Timex test',\n",
       "  'Hats & Caps',\n",
       "  'Exotic Apparel',\n",
       "  'Casual & Dress Socks',\n",
       "  'Undershirts, Tanks & Camisoles',\n",
       "  'Sports Duffels',\n",
       "  'Jewelry Boxes',\n",
       "  'Tights',\n",
       "  'Contemporary',\n",
       "  'Two-Pieces',\n",
       "  'Dresses & Jumpers',\n",
       "  'Jewelry: International Shipping Available',\n",
       "  'Other Sports',\n",
       "  'Ball',\n",
       "  'Pendants',\n",
       "  'Bracelets'],\n",
       " ['Western Chief',\n",
       "  'Bow Ties',\n",
       "  'Jackets',\n",
       "  'Party Supplies',\n",
       "  'Active Hoodies',\n",
       "  'Luggage & Travel Gear',\n",
       "  'Cold Weather',\n",
       "  'School Uniforms',\n",
       "  'Neckties',\n",
       "  'Pop',\n",
       "  'Hats & Caps',\n",
       "  'Button-Down & Dress Shirts',\n",
       "  'Stationery & Party Supplies',\n",
       "  'Sports Duffels',\n",
       "  'Active Base Layers',\n",
       "  'Sweatpants',\n",
       "  'Jewelry: International Shipping Available',\n",
       "  'Undershirts'],\n",
       " ['Footies',\n",
       "  'Robeez',\n",
       "  'Baby Girls',\n",
       "  'Bodysuits',\n",
       "  'Hair Accessories',\n",
       "  'Layette Sets',\n",
       "  'Athletic & Outdoor',\n",
       "  'Potty Training',\n",
       "  'Baby',\n",
       "  'Hats & Caps',\n",
       "  'Oxford & Loafer',\n",
       "  'Snow Wear',\n",
       "  'Christening',\n",
       "  'Overalls',\n",
       "  'Tights',\n",
       "  'Covers',\n",
       "  'Mary Jane',\n",
       "  'Footies & Rompers',\n",
       "  'Hoodies & Active']]"
      ]
     },
     "execution_count": 119,
     "metadata": {},
     "output_type": "execute_result"
    }
   ],
   "source": [
    "categories"
   ]
  },
  {
   "cell_type": "code",
   "execution_count": 128,
   "metadata": {
    "scrolled": true
   },
   "outputs": [
    {
     "ename": "KeyError",
     "evalue": "'categories'",
     "output_type": "error",
     "traceback": [
      "\u001b[1;31m---------------------------------------------------------------------------\u001b[0m",
      "\u001b[1;31mKeyError\u001b[0m                                  Traceback (most recent call last)",
      "\u001b[1;32m<ipython-input-128-091e4e39e052>\u001b[0m in \u001b[0;36m<module>\u001b[1;34m()\u001b[0m\n\u001b[0;32m      8\u001b[0m     \u001b[0mu\u001b[0m\u001b[1;33m,\u001b[0m\u001b[0mr\u001b[0m \u001b[1;33m=\u001b[0m \u001b[0ml\u001b[0m\u001b[1;33m.\u001b[0m\u001b[0mstrip\u001b[0m\u001b[1;33m(\u001b[0m\u001b[1;33m)\u001b[0m\u001b[1;33m.\u001b[0m\u001b[0msplit\u001b[0m\u001b[1;33m(\u001b[0m\u001b[1;34m'-'\u001b[0m\u001b[1;33m)\u001b[0m\u001b[1;33m\u001b[0m\u001b[0m\n\u001b[0;32m      9\u001b[0m \u001b[1;33m\u001b[0m\u001b[0m\n\u001b[1;32m---> 10\u001b[1;33m     \u001b[0mcats\u001b[0m \u001b[1;33m=\u001b[0m \u001b[0mtest\u001b[0m\u001b[1;33m[\u001b[0m\u001b[0mi\u001b[0m\u001b[1;33m]\u001b[0m\u001b[1;33m[\u001b[0m\u001b[1;34m'categories'\u001b[0m\u001b[1;33m]\u001b[0m\u001b[1;33m\u001b[0m\u001b[0m\n\u001b[0m\u001b[0;32m     11\u001b[0m     \u001b[0mcats\u001b[0m \u001b[1;33m=\u001b[0m \u001b[1;33m[\u001b[0m\u001b[0my\u001b[0m \u001b[1;32mfor\u001b[0m \u001b[0mx\u001b[0m \u001b[1;32min\u001b[0m \u001b[0mcats\u001b[0m \u001b[1;32mfor\u001b[0m \u001b[0my\u001b[0m \u001b[1;32min\u001b[0m \u001b[0mx\u001b[0m\u001b[1;33m]\u001b[0m\u001b[1;33m\u001b[0m\u001b[0m\n\u001b[0;32m     12\u001b[0m     \u001b[0mpredCat\u001b[0m \u001b[1;33m=\u001b[0m \u001b[1;33m-\u001b[0m\u001b[1;36m1\u001b[0m\u001b[1;33m\u001b[0m\u001b[0m\n",
      "\u001b[1;31mKeyError\u001b[0m: 'categories'"
     ]
    }
   ],
   "source": [
    "predictions = open(\"predictions_Category.txt\", 'w')\n",
    "i = 0\n",
    "for l in open(\"pairs_Category.txt\"):\n",
    "    if l.startswith(\"reviewerID\"):\n",
    "        #header\n",
    "        predictions.write(l)\n",
    "        continue\n",
    "    u,r = l.strip().split('-')\n",
    "    \n",
    "    cats = test[i]['categories']\n",
    "    cats = [y for x in cats for y in x]\n",
    "    predCat = -1\n",
    "    for cat in cats:\n",
    "        if cat in categories[0]:\n",
    "            predCat = 0\n",
    "            break\n",
    "        elif cat in categories[1]:\n",
    "            predCat = 1\n",
    "            break\n",
    "        elif cat in categories[2]:\n",
    "            predCat = 2\n",
    "            break\n",
    "        elif cat in categories[3]:\n",
    "            predCat = 3\n",
    "            break\n",
    "        elif cat in categories[4]:\n",
    "            predCat = 4\n",
    "            break\n",
    "    \n",
    "    if predCat == -1:    \n",
    "        if u in usersFeatures:\n",
    "            predictions.write(u + '-' + r + \",\" + str(usersFeatures[u][2].index(max(usersFeatures[u][2]))) + \"\\n\")\n",
    "        else:\n",
    "            predictions.write(u + '-' + r + \",0\\n\")\n",
    "    else:\n",
    "        predictions.write(u + '-' + r + ',' + str(predCat) + '\\n')\n",
    "    i += 1\n",
    "predictions.close()"
   ]
  },
  {
   "cell_type": "code",
   "execution_count": 129,
   "metadata": {},
   "outputs": [
    {
     "data": {
      "text/plain": [
       "{'reviewTime': '07 26, 2013',\n",
       " 'reviewText': 'I love this blouse, in fact I have it on right now....all of my friends like it and want one.',\n",
       " 'helpful': {'nHelpful': 9, 'outOf': 9},\n",
       " 'reviewerID': 'U281659737',\n",
       " 'reviewHash': 'R934811302',\n",
       " 'unixReviewTime': 1374796800,\n",
       " 'rating': 5.0,\n",
       " 'summary': 'love it'}"
      ]
     },
     "execution_count": 129,
     "metadata": {},
     "output_type": "execute_result"
    }
   ],
   "source": [
    "test[i]"
   ]
  },
  {
   "cell_type": "code",
   "execution_count": 149,
   "metadata": {},
   "outputs": [],
   "source": [
    "knn = KNeighborsClassifier(n_neighbors=10)\n",
    "knn.fit(X_train, y_train)\n",
    "trainPreds = knn.predict(X_train)"
   ]
  },
  {
   "cell_type": "code",
   "execution_count": 150,
   "metadata": {},
   "outputs": [
    {
     "data": {
      "text/plain": [
       "0.7353"
      ]
     },
     "execution_count": 150,
     "metadata": {},
     "output_type": "execute_result"
    }
   ],
   "source": [
    "accuracy_score(y_train, trainPreds)"
   ]
  },
  {
   "cell_type": "code",
   "execution_count": 151,
   "metadata": {},
   "outputs": [],
   "source": [
    "testPreds = knn.predict(X_test)"
   ]
  },
  {
   "cell_type": "code",
   "execution_count": 152,
   "metadata": {},
   "outputs": [],
   "source": [
    "predictions = open(\"predictions_Category.txt\", 'w')\n",
    "i = 0\n",
    "for l in open(\"pairs_Category.txt\"):\n",
    "    if l.startswith(\"reviewerID\"):\n",
    "        #header\n",
    "        predictions.write(l)\n",
    "        continue\n",
    "    u,r = l.strip().split('-')\n",
    "    \n",
    "    \n",
    "    predictions.write(u + '-' + r + ',' + str(testPreds[i]) + '\\n')\n",
    "    i += 1\n",
    "predictions.close()"
   ]
  },
  {
   "cell_type": "code",
   "execution_count": null,
   "metadata": {},
   "outputs": [],
   "source": []
  }
 ],
 "metadata": {
  "kernelspec": {
   "display_name": "Python 3",
   "language": "python",
   "name": "python3"
  },
  "language_info": {
   "codemirror_mode": {
    "name": "ipython",
    "version": 3
   },
   "file_extension": ".py",
   "mimetype": "text/x-python",
   "name": "python",
   "nbconvert_exporter": "python",
   "pygments_lexer": "ipython3",
   "version": "3.6.5"
  }
 },
 "nbformat": 4,
 "nbformat_minor": 2
}
