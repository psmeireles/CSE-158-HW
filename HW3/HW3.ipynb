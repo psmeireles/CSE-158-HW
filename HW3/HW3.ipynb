{
 "cells": [
  {
   "cell_type": "code",
   "execution_count": 99,
   "metadata": {},
   "outputs": [],
   "source": [
    "import gzip\n",
    "import random\n",
    "import matplotlib.pyplot as plt\n",
    "from collections import defaultdict"
   ]
  },
  {
   "cell_type": "markdown",
   "metadata": {},
   "source": [
    "### Question 1"
   ]
  },
  {
   "cell_type": "code",
   "execution_count": 81,
   "metadata": {},
   "outputs": [],
   "source": [
    "def readGz(f):\n",
    "  for l in gzip.open(f):\n",
    "    yield eval(l)"
   ]
  },
  {
   "cell_type": "code",
   "execution_count": 82,
   "metadata": {},
   "outputs": [],
   "source": [
    "train = []\n",
    "for l in readGz(\"train.json.gz\"):\n",
    "    train.append(l)"
   ]
  },
  {
   "cell_type": "code",
   "execution_count": 83,
   "metadata": {},
   "outputs": [],
   "source": [
    "notPurchased = []\n",
    "for i in range(0, 100000):\n",
    "    user = random.randint(0, 99999)\n",
    "    product = random.randint(0, 99999)\n",
    "    v = {'reviewerID' : 0,\n",
    "        'itemID' : 0}\n",
    "    v['reviewerID'] = train[user]['reviewerID']\n",
    "    v['itemID'] = train[user]['itemID']\n",
    "    notPurchased.append(v)"
   ]
  },
  {
   "cell_type": "code",
   "execution_count": 84,
   "metadata": {},
   "outputs": [],
   "source": [
    "validation = train[100000:]\n",
    "train = train[:100000]"
   ]
  },
  {
   "cell_type": "code",
   "execution_count": 85,
   "metadata": {},
   "outputs": [],
   "source": [
    "validation = validation + notPurchased"
   ]
  },
  {
   "cell_type": "code",
   "execution_count": 86,
   "metadata": {},
   "outputs": [],
   "source": [
    "### Would-purchase baseline: just rank which businesses are popular and which are not, and return '1' if a business is among the top-ranked\n",
    "\n",
    "businessCount = defaultdict(int)\n",
    "totalPurchases = 0\n",
    "\n",
    "for l in train:\n",
    "  user,business = l['reviewerID'],l['itemID']\n",
    "  businessCount[business] += 1\n",
    "  totalPurchases += 1"
   ]
  },
  {
   "cell_type": "code",
   "execution_count": 87,
   "metadata": {},
   "outputs": [],
   "source": [
    "mostPopular = [(businessCount[x], x) for x in businessCount]\n",
    "mostPopular.sort()\n",
    "mostPopular.reverse()\n",
    "\n",
    "return1 = set()\n",
    "count = 0\n",
    "for ic, i in mostPopular:\n",
    "  count += ic\n",
    "  return1.add(i)\n",
    "  if count > totalPurchases/2: break"
   ]
  },
  {
   "cell_type": "code",
   "execution_count": 88,
   "metadata": {},
   "outputs": [],
   "source": [
    "validationResult = []\n",
    "expectedResult = []\n",
    "i = 0\n",
    "for v in validation:\n",
    "    if v['itemID'] in return1:\n",
    "        validationResult.append(1)\n",
    "    else:\n",
    "        validationResult.append(0)\n",
    "    if i < 100000:\n",
    "        expectedResult.append(1)\n",
    "    else:\n",
    "        expectedResult.append(0)\n",
    "    i = i+1"
   ]
  },
  {
   "cell_type": "code",
   "execution_count": 89,
   "metadata": {},
   "outputs": [],
   "source": [
    "comparison = list(zip(validationResult, expectedResult))\n",
    "accuracyV = [v[0] == v[1] for v in comparison]\n",
    "accuracy = sum(accuracyV)/len(accuracyV)"
   ]
  },
  {
   "cell_type": "code",
   "execution_count": 90,
   "metadata": {},
   "outputs": [
    {
     "data": {
      "text/plain": [
       "0.471645"
      ]
     },
     "execution_count": 90,
     "metadata": {},
     "output_type": "execute_result"
    }
   ],
   "source": [
    "accuracy"
   ]
  },
  {
   "cell_type": "markdown",
   "metadata": {},
   "source": [
    "### Question 2"
   ]
  },
  {
   "cell_type": "code",
   "execution_count": 96,
   "metadata": {},
   "outputs": [],
   "source": [
    "### Would-purchase baseline: just rank which businesses are popular and which are not, and return '1' if a business is among the top-ranked\n",
    "\n",
    "def predict(X, percentile):\n",
    "    return1 = set()\n",
    "    count = 0\n",
    "    for ic, i in mostPopular:\n",
    "      count += ic\n",
    "      return1.add(i)\n",
    "      if count > totalPurchases*percentile: break\n",
    "\n",
    "    validationResult = []\n",
    "    for v in X:\n",
    "        if v['itemID'] in return1:\n",
    "            validationResult.append(1)\n",
    "        else:\n",
    "            validationResult.append(0)\n",
    "            \n",
    "    return validationResult\n",
    "\n",
    "def modelAccuracy(y, real_y):\n",
    "    comparison = list(zip(y, real_y))\n",
    "    accuracyV = [v[0] == v[1] for v in comparison]\n",
    "    return sum(accuracyV)/len(accuracyV)"
   ]
  },
  {
   "cell_type": "code",
   "execution_count": 101,
   "metadata": {},
   "outputs": [],
   "source": [
    "percent = []\n",
    "res = []\n",
    "for i in range(1, 100):\n",
    "    percentile = i/100\n",
    "    percent.append(percentile)\n",
    "    result = predict(validation, percentile)\n",
    "    acc = modelAccuracy(result, expectedResult)\n",
    "    res.append(acc)"
   ]
  },
  {
   "cell_type": "code",
   "execution_count": 102,
   "metadata": {},
   "outputs": [
    {
     "data": {
      "image/png": "[encoded data removed]",
      "text/plain": [
       "<Figure size 432x288 with 1 Axes>"
      ]
     },
     "metadata": {},
     "output_type": "display_data"
    }
   ],
   "source": [
    "plt.plot(percent, res)\n",
    "plt.xlabel('percentile')\n",
    "plt.ylabel('accuracy')\n",
    "plt.show()"
   ]
  },
  {
   "cell_type": "markdown",
   "metadata": {},
   "source": [
    "The best performance is achieved when the model predicts all pair with either True of False. In both cases the accuracy is 50%"
   ]
  },
  {
   "cell_type": "markdown",
   "metadata": {},
   "source": [
    "### Question 3"
   ]
  },
  {
   "cell_type": "code",
   "execution_count": 150,
   "metadata": {},
   "outputs": [],
   "source": [
    "allUsers = list(set([v['reviewerID'] for v in train]))\n",
    "users = defaultdict(list)\n",
    "\n",
    "for user in allUsers:\n",
    "    categories = [v['categories'] for v in train if v['reviewerID'] == user]\n",
    "    catList = []\n",
    "    for cat in categories:\n",
    "        for c in cat:\n",
    "            for x in c:\n",
    "                catList.append(x)\n",
    "    users[user] = list(set(catList))"
   ]
  },
  {
   "cell_type": "code",
   "execution_count": 160,
   "metadata": {},
   "outputs": [
    {
     "name": "stdout",
     "output_type": "stream",
     "text": [
      "['Clothing, Shoes & Jewelry', 'Women']\n",
      "['Clothing, Shoes & Jewelry', 'Novelty, Costumes & More', 'Novelty', 'Clothing', 'Women', 'Leggings']\n"
     ]
    }
   ],
   "source": [
    "vb = [v['categories'] for v in train if v['itemID'] == 'I402344648'][0]\n",
    "for c in vb:\n",
    "    print(c)"
   ]
  },
  {
   "cell_type": "code",
   "execution_count": null,
   "metadata": {},
   "outputs": [],
   "source": [
    "predictions = open(\"predictions_Purchase.txt\", 'w')\n",
    "for l in open(\"pairs_Purchase.txt\"):\n",
    "    if l.startswith(\"reviewerID\"):\n",
    "        #header\n",
    "        predictions.write(l)\n",
    "        continue\n",
    "    u,i = l.strip().split('-')\n",
    "\n",
    "    if u in users:\n",
    "        itemCats = [v['categories'] for v in train if v['itemID'] == i]\n",
    "        realCats = []\n",
    "        for cat in itemCats:\n",
    "            for c in cat:\n",
    "                for x in c:\n",
    "                    realCats.append(x)\n",
    "        realCats = list(set(realCats))\n",
    "        \n",
    "        if any(x in users[u] for x in realCats):\n",
    "            predictions.write(u + '-' + i + \",1\\n\")\n",
    "        else:\n",
    "            predictions.write(u + '-' + i + \",0\\n\")\n",
    "    else:\n",
    "        predictions.write(u + '-' + i + \",0\\n\")\n",
    "\n",
    "predictions.close()"
   ]
  },
  {
   "cell_type": "code",
   "execution_count": null,
   "metadata": {},
   "outputs": [],
   "source": []
  },
  {
   "cell_type": "code",
   "execution_count": 41,
   "metadata": {},
   "outputs": [],
   "source": [
    "### Rating baseline: compute averages for each user, or return the global average if we've never seen the user before\n",
    "\n",
    "allRatings = []\n",
    "userRatings = defaultdict(list)\n",
    "for l in train:\n",
    "  user,business = l['reviewerID'],l['itemID']\n",
    "  allRatings.append(l['rating'])\n",
    "  userRatings[user].append(l['rating'])"
   ]
  },
  {
   "cell_type": "code",
   "execution_count": 42,
   "metadata": {},
   "outputs": [],
   "source": [
    "globalAverage = sum(allRatings) / len(allRatings)\n",
    "userAverage = {}\n",
    "for u in userRatings:\n",
    "  userAverage[u] = sum(userRatings[u]) / len(userRatings[u])"
   ]
  },
  {
   "cell_type": "code",
   "execution_count": 43,
   "metadata": {},
   "outputs": [],
   "source": [
    "predictions = open(\"predictions_Rating.txt\", 'w')\n",
    "for l in open(\"pairs_Rating.txt\"):\n",
    "  if l.startswith(\"reviewerID\"):\n",
    "    #header\n",
    "    predictions.write(l)\n",
    "    continue\n",
    "  u,i = l.strip().split('-')\n",
    "  if u in userAverage:\n",
    "    predictions.write(u + '-' + i + ',' + str(userAverage[u]) + '\\n')\n",
    "  else:\n",
    "    predictions.write(u + '-' + i + ',' + str(globalAverage) + '\\n')\n",
    "\n",
    "predictions.close()"
   ]
  },
  {
   "cell_type": "code",
   "execution_count": null,
   "metadata": {},
   "outputs": [],
   "source": [
    "### Category prediction baseline: Just consider some of the most common words from each category\n",
    "\n",
    "catDict = {\n",
    "  \"Women\": 0,\n",
    "  \"Men\": 1,\n",
    "  \"Girls\": 2,\n",
    "  \"Boys\": 3,\n",
    "  \"Baby\": 4\n",
    "}\n",
    "\n",
    "predictions = open(\"predictions_Category.txt\", 'w')\n",
    "predictions.write(\"reviewerID-reviewHash,category\\n\")\n",
    "for l in readGz(\"test_Category.json.gz\"):\n",
    "  cat = catDict['Women'] # If there's no evidence, just choose the most common category in the dataset\n",
    "  words = l['reviewText'].lower()\n",
    "  if 'wife' in words:\n",
    "    cat = catDict['Women']\n",
    "  if 'husband' in words:\n",
    "    cat = catDict['Men']\n",
    "  if 'daughter' in words:\n",
    "    cat = catDict['Girls']\n",
    "  if 'son' in words:\n",
    "    cat = catDict['Boys']\n",
    "  if 'baby' in words:\n",
    "    cat = catDict['Baby']\n",
    "  predictions.write(l['reviewerID'] + '-' + l['reviewHash'] + \",\" + str(cat) + \"\\n\")\n",
    "\n",
    "predictions.close()\n"
   ]
  },
  {
   "cell_type": "code",
   "execution_count": null,
   "metadata": {},
   "outputs": [],
   "source": []
  },
  {
   "cell_type": "code",
   "execution_count": null,
   "metadata": {},
   "outputs": [],
   "source": []
  }
 ],
 "metadata": {
  "kernelspec": {
   "display_name": "Python 3",
   "language": "python",
   "name": "python3"
  },
  "language_info": {
   "codemirror_mode": {
    "name": "ipython",
    "version": 3
   },
   "file_extension": ".py",
   "mimetype": "text/x-python",
   "name": "python",
   "nbconvert_exporter": "python",
   "pygments_lexer": "ipython3",
   "version": "3.6.5"
  }
 },
 "nbformat": 4,
 "nbformat_minor": 2
}
