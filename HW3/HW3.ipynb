{
 "cells": [
  {
   "cell_type": "code",
   "execution_count": 1,
   "metadata": {},
   "outputs": [],
   "source": [
    "import gzip\n",
    "import random\n",
    "import matplotlib.pyplot as plt\n",
    "import string\n",
    "from sklearn import svm\n",
    "from collections import defaultdict"
   ]
  },
  {
   "cell_type": "markdown",
   "metadata": {},
   "source": [
    "### Question 1"
   ]
  },
  {
   "cell_type": "code",
   "execution_count": 2,
   "metadata": {},
   "outputs": [],
   "source": [
    "def readGz(f):\n",
    "  for l in gzip.open(f):\n",
    "    yield eval(l)"
   ]
  },
  {
   "cell_type": "code",
   "execution_count": 3,
   "metadata": {},
   "outputs": [],
   "source": [
    "train = []\n",
    "for l in readGz(\"train.json.gz\"):\n",
    "    train.append(l)"
   ]
  },
  {
   "cell_type": "code",
   "execution_count": 4,
   "metadata": {},
   "outputs": [],
   "source": [
    "notPurchased = []\n",
    "for i in range(0, 100000):\n",
    "    user = random.randint(0, 99999)\n",
    "    product = random.randint(0, 99999)\n",
    "    v = {'reviewerID' : 0,\n",
    "        'itemID' : 0}\n",
    "    v['reviewerID'] = train[user]['reviewerID']\n",
    "    v['itemID'] = train[user]['itemID']\n",
    "    notPurchased.append(v)"
   ]
  },
  {
   "cell_type": "code",
   "execution_count": 5,
   "metadata": {},
   "outputs": [],
   "source": [
    "validation = train[100000:]\n",
    "train = train[:100000]"
   ]
  },
  {
   "cell_type": "code",
   "execution_count": 6,
   "metadata": {},
   "outputs": [],
   "source": [
    "validation = validation + notPurchased"
   ]
  },
  {
   "cell_type": "code",
   "execution_count": 7,
   "metadata": {},
   "outputs": [],
   "source": [
    "### Would-purchase baseline: just rank which businesses are popular and which are not, and return '1' if a business is among the top-ranked\n",
    "\n",
    "businessCount = defaultdict(int)\n",
    "totalPurchases = 0\n",
    "\n",
    "for l in train:\n",
    "  user,business = l['reviewerID'],l['itemID']\n",
    "  businessCount[business] += 1\n",
    "  totalPurchases += 1"
   ]
  },
  {
   "cell_type": "code",
   "execution_count": 8,
   "metadata": {},
   "outputs": [],
   "source": [
    "mostPopular = [(businessCount[x], x) for x in businessCount]\n",
    "mostPopular.sort()\n",
    "mostPopular.reverse()\n",
    "\n",
    "return1 = set()\n",
    "count = 0\n",
    "for ic, i in mostPopular:\n",
    "  count += ic\n",
    "  return1.add(i)\n",
    "  if count > totalPurchases/2: break"
   ]
  },
  {
   "cell_type": "code",
   "execution_count": 9,
   "metadata": {},
   "outputs": [],
   "source": [
    "validationResult = []\n",
    "expectedResult = []\n",
    "i = 0\n",
    "for v in validation:\n",
    "    if v['itemID'] in return1:\n",
    "        validationResult.append(1)\n",
    "    else:\n",
    "        validationResult.append(0)\n",
    "    if i < 100000:\n",
    "        expectedResult.append(1)\n",
    "    else:\n",
    "        expectedResult.append(0)\n",
    "    i = i+1"
   ]
  },
  {
   "cell_type": "code",
   "execution_count": 10,
   "metadata": {},
   "outputs": [],
   "source": [
    "comparison = list(zip(validationResult, expectedResult))\n",
    "accuracyV = [v[0] == v[1] for v in comparison]\n",
    "accuracy = sum(accuracyV)/len(accuracyV)"
   ]
  },
  {
   "cell_type": "code",
   "execution_count": 11,
   "metadata": {},
   "outputs": [
    {
     "data": {
      "text/plain": [
       "0.47252"
      ]
     },
     "execution_count": 11,
     "metadata": {},
     "output_type": "execute_result"
    }
   ],
   "source": [
    "accuracy"
   ]
  },
  {
   "cell_type": "markdown",
   "metadata": {},
   "source": [
    "### Question 2"
   ]
  },
  {
   "cell_type": "code",
   "execution_count": 12,
   "metadata": {},
   "outputs": [],
   "source": [
    "### Would-purchase baseline: just rank which businesses are popular and which are not, and return '1' if a business is among the top-ranked\n",
    "\n",
    "def predict(X, percentile):\n",
    "    return1 = set()\n",
    "    count = 0\n",
    "    for ic, i in mostPopular:\n",
    "      count += ic\n",
    "      return1.add(i)\n",
    "      if count > totalPurchases*percentile: break\n",
    "\n",
    "    validationResult = []\n",
    "    for v in X:\n",
    "        if v['itemID'] in return1:\n",
    "            validationResult.append(1)\n",
    "        else:\n",
    "            validationResult.append(0)\n",
    "            \n",
    "    return validationResult\n",
    "\n",
    "def modelAccuracy(y, real_y):\n",
    "    comparison = list(zip(y, real_y))\n",
    "    accuracyV = [v[0] == v[1] for v in comparison]\n",
    "    return sum(accuracyV)/len(accuracyV)"
   ]
  },
  {
   "cell_type": "code",
   "execution_count": 15,
   "metadata": {},
   "outputs": [],
   "source": [
    "percent = []\n",
    "res = []\n",
    "for i in range(0, 101):\n",
    "    percentile = i/100\n",
    "    percent.append(percentile)\n",
    "    result = predict(validation, percentile)\n",
    "    acc = modelAccuracy(result, expectedResult)\n",
    "    res.append(acc)"
   ]
  },
  {
   "cell_type": "code",
   "execution_count": 16,
   "metadata": {},
   "outputs": [
    {
     "data": {
      "image/png": "[encoded data removed]",
      "text/plain": [
       "<Figure size 432x288 with 1 Axes>"
      ]
     },
     "metadata": {},
     "output_type": "display_data"
    }
   ],
   "source": [
    "plt.plot(percent, res)\n",
    "plt.xlabel('percentile')\n",
    "plt.ylabel('accuracy')\n",
    "plt.show()"
   ]
  },
  {
   "cell_type": "code",
   "execution_count": 19,
   "metadata": {},
   "outputs": [
    {
     "data": {
      "text/plain": [
       "0.01"
      ]
     },
     "execution_count": 19,
     "metadata": {},
     "output_type": "execute_result"
    }
   ],
   "source": [
    "percent[res.index(max(res))]"
   ]
  },
  {
   "cell_type": "code",
   "execution_count": 20,
   "metadata": {},
   "outputs": [
    {
     "data": {
      "text/plain": [
       "0.500185"
      ]
     },
     "execution_count": 20,
     "metadata": {},
     "output_type": "execute_result"
    }
   ],
   "source": [
    "max(res)"
   ]
  },
  {
   "cell_type": "markdown",
   "metadata": {},
   "source": [
    "The best performance is achieved when using the 1st percentile. The accuracy is 0.500185"
   ]
  },
  {
   "cell_type": "markdown",
   "metadata": {},
   "source": [
    "### Question 3"
   ]
  },
  {
   "cell_type": "code",
   "execution_count": 25,
   "metadata": {},
   "outputs": [],
   "source": [
    "predictions = open(\"predictions_Purchase.txt\", 'w')\n",
    "for l in open(\"pairs_Purchase.txt\"):\n",
    "    if l.startswith(\"reviewerID\"):\n",
    "        #header\n",
    "        predictions.write(l)\n",
    "        continue\n",
    "    u,i = l.strip().split('-')\n",
    "\n",
    "    userCategories = list(set([v['categoryID'] for v in train if v['reviewerID'] == u]))\n",
    "    itemCat = list(set([v['categoryID'] for v in train if v['itemID'] == i]))\n",
    "    if itemCat != []:\n",
    "        itemCat = itemCat[0]\n",
    "    \n",
    "    if itemCat != [] and itemCat in userCategories:\n",
    "        predictions.write(u + '-' + i + \",1\\n\")\n",
    "    else:\n",
    "        predictions.write(u + '-' + i + \",0\\n\")\n",
    "\n",
    "predictions.close()"
   ]
  },
  {
   "cell_type": "markdown",
   "metadata": {},
   "source": [
    "### Question 4"
   ]
  },
  {
   "cell_type": "markdown",
   "metadata": {},
   "source": [
    "Username: psousame\n",
    "\n",
    "Team Name: Pedro Meireles"
   ]
  },
  {
   "cell_type": "markdown",
   "metadata": {},
   "source": [
    "### Question 5"
   ]
  },
  {
   "cell_type": "code",
   "execution_count": 23,
   "metadata": {},
   "outputs": [],
   "source": [
    "train = []\n",
    "for l in readGz(\"train.json.gz\"):\n",
    "    train.append(l)"
   ]
  },
  {
   "cell_type": "code",
   "execution_count": 24,
   "metadata": {},
   "outputs": [],
   "source": [
    "subSet = []\n",
    "for i in range(0, 20000):\n",
    "    index = random.randint(0, 19999)\n",
    "    subSet.append(train[index])"
   ]
  },
  {
   "cell_type": "code",
   "execution_count": 25,
   "metadata": {},
   "outputs": [],
   "source": [
    "validation = subSet[len(subSet)//2:]\n",
    "train = subSet[:len(subSet)//2]"
   ]
  },
  {
   "cell_type": "code",
   "execution_count": 12,
   "metadata": {},
   "outputs": [],
   "source": [
    "usersCats = defaultdict(list)\n",
    "for v in train:\n",
    "    user = v['reviewerID']\n",
    "    usersCats[user] = [0,0,0,0,0]\n",
    "\n",
    "mostCommonCat = [0,0,0,0,0]\n",
    "for v in train:\n",
    "    user = v['reviewerID']\n",
    "    index = v['categoryID']\n",
    "    usersCats[user][index] = usersCats[user][index] + 1\n",
    "    mostCommonCat[index] = mostCommonCat[index] + 1"
   ]
  },
  {
   "cell_type": "code",
   "execution_count": 13,
   "metadata": {},
   "outputs": [],
   "source": [
    "for v in usersCats:\n",
    "    maxIndices = [i for i, x in enumerate(usersCats[v]) if x == max(usersCats[v])]\n",
    "    catID = [mostCommonCat[i] for i in maxIndices]\n",
    "    catID = maxIndices[catID.index(max(catID))]\n",
    "    usersCats[v] = catID"
   ]
  },
  {
   "cell_type": "code",
   "execution_count": 8,
   "metadata": {},
   "outputs": [],
   "source": [
    "predictions = []\n",
    "actualValue = []\n",
    "for l in validation:\n",
    "    user = l['reviewerID']\n",
    "    if user in usersCats:\n",
    "        predictions.append(usersCats[user])\n",
    "    else:\n",
    "        predictions.append(0)\n",
    "    actualValue.append(l['categoryID'])"
   ]
  },
  {
   "cell_type": "code",
   "execution_count": 9,
   "metadata": {},
   "outputs": [
    {
     "data": {
      "text/plain": [
       "0.8187"
      ]
     },
     "execution_count": 9,
     "metadata": {},
     "output_type": "execute_result"
    }
   ],
   "source": [
    "comparison = list(zip(predictions, actualValue))\n",
    "accuracy = [v[0] == v[1] for v in comparison]\n",
    "accuracy = sum(accuracy)/len(accuracy)\n",
    "accuracy"
   ]
  },
  {
   "cell_type": "code",
   "execution_count": 14,
   "metadata": {},
   "outputs": [],
   "source": [
    "predictions = open(\"predictions_Category.txt\", 'w')\n",
    "for l in open(\"pairs_Category.txt\"):\n",
    "    if l.startswith(\"reviewerID\"):\n",
    "        #header\n",
    "        predictions.write(l)\n",
    "        continue\n",
    "    u,i = l.strip().split('-')\n",
    "\n",
    "    if u in usersCats:\n",
    "        predictions.write(u + '-' + i + \",\" + str(usersCats[u]) + \"\\n\")\n",
    "    else:\n",
    "        predictions.write(u + '-' + i + \",0\\n\")\n",
    "\n",
    "predictions.close()"
   ]
  },
  {
   "cell_type": "markdown",
   "metadata": {},
   "source": [
    "### Question 6"
   ]
  },
  {
   "cell_type": "code",
   "execution_count": 15,
   "metadata": {},
   "outputs": [],
   "source": [
    "wordCount = defaultdict(int)\n",
    "punctuation = set(string.punctuation)\n",
    "for v in train:\n",
    "    r = ''.join([c for c in v['reviewText'].lower() if not c in punctuation])\n",
    "    for w in r.split():\n",
    "        wordCount[w] += 1"
   ]
  },
  {
   "cell_type": "code",
   "execution_count": 16,
   "metadata": {},
   "outputs": [],
   "source": [
    "wordCount = [(wordCount[w], w) for w in wordCount]\n",
    "wordCount.sort()\n",
    "wordCount.reverse()"
   ]
  },
  {
   "cell_type": "code",
   "execution_count": 17,
   "metadata": {},
   "outputs": [],
   "source": [
    "totalWords = sum([v[0] for v in wordCount])"
   ]
  },
  {
   "cell_type": "code",
   "execution_count": 18,
   "metadata": {},
   "outputs": [],
   "source": [
    "frequency = [(v[0]/totalWords, v[1]) for v in wordCount]"
   ]
  },
  {
   "cell_type": "code",
   "execution_count": 19,
   "metadata": {},
   "outputs": [],
   "source": [
    "catWordCount = [defaultdict(int), defaultdict(int), defaultdict(int), defaultdict(int), defaultdict(int)]\n",
    "catTotalWords = [0, 0, 0, 0, 0]\n",
    "catFrequency = []\n",
    "for i in range(0, 5):\n",
    "    for v in [v for v in train if v['categoryID'] == i]:\n",
    "        r = ''.join([c for c in v['reviewText'].lower() if not c in punctuation])\n",
    "        for w in r.split():\n",
    "            catWordCount[i][w] += 1\n",
    "    \n",
    "    catWordCount[i] = [(catWordCount[i][w], w) for w in catWordCount[i]]\n",
    "    catWordCount[i].sort()\n",
    "    catWordCount[i].reverse()\n",
    "    \n",
    "    catTotalWords[i] = sum([v[0] for v in catWordCount[i]])\n",
    "    catFrequency.append([(v[0]/catTotalWords[i], v[1]) for v in catWordCount[i]])"
   ]
  },
  {
   "cell_type": "code",
   "execution_count": 20,
   "metadata": {},
   "outputs": [
    {
     "name": "stdout",
     "output_type": "stream",
     "text": [
      "CategoryID = 0\n",
      "the - -0.0001830118442185738\n",
      "i - 0.0033639416588894383\n",
      "and - 0.00013154814794518604\n",
      "a - 0.00017151733026209842\n",
      "it - 0.0013979045179383365\n",
      "to - -5.735199828152404e-05\n",
      "is - -1.8542851970240748e-05\n",
      "for - -0.0006914201788361021\n",
      "this - 0.0003678141018239392\n",
      "in - 0.00016154547404756588\n",
      "\n",
      "CategoryID = 1\n",
      "the - 0.0007219045468786905\n",
      "i - -0.00725930284502313\n",
      "and - -0.000475814828130805\n",
      "a - -2.874195769825283e-05\n",
      "to - 0.00019532598714466776\n",
      "is - -7.155610571632845e-05\n",
      "it - -0.003432213312138343\n",
      "for - 0.0012323506655017892\n",
      "of - 0.0012031414365440852\n",
      "in - -0.00028453338477869676\n",
      "\n",
      "CategoryID = 2\n",
      "the - -0.0025907973113547325\n",
      "and - 0.0016222582519749493\n",
      "i - -0.008940365249605942\n",
      "a - -0.001840804437797234\n",
      "it - 0.003825898935718528\n",
      "to - 0.00037173734580276535\n",
      "for - 0.0045828249158813145\n",
      "is - 0.0017084864812889032\n",
      "my - 0.004234039467868931\n",
      "this - 0.0011560368560521832\n",
      "\n",
      "CategoryID = 3\n",
      "the - -0.0017261461279429666\n",
      "and - 0.0005600184426730673\n",
      "a - -0.0026411741360753346\n",
      "i - -0.015680574597252032\n",
      "to - -0.0004661007835804615\n",
      "for - 0.005814946457524731\n",
      "is - 0.0008455558323745838\n",
      "it - -0.002869327476240576\n",
      "my - 0.005094340821756282\n",
      "they - 0.0019342949678975378\n",
      "\n",
      "CategoryID = 4\n",
      "the - -0.0021038049108826062\n",
      "and - 0.0012281013563130855\n",
      "i - -0.013016485752960435\n",
      "a - -0.0055148783855534615\n",
      "to - -0.000965385310450477\n",
      "for - 0.004342980689654028\n",
      "is - 0.000644616162266503\n",
      "they - 0.004425295974886974\n",
      "are - 0.004344480796026496\n",
      "it - -0.004816703944121101\n",
      "\n"
     ]
    }
   ],
   "source": [
    "for i in range(0, 5):\n",
    "    print('CategoryID = ' + str(i))\n",
    "    for v in catFrequency[i][:10]:\n",
    "        f = v[0] - [x[0] for x in frequency if x[1] == v[1]][0]\n",
    "        print(v[1] + ' - ' + str(f))\n",
    "    print()"
   ]
  },
  {
   "cell_type": "markdown",
   "metadata": {},
   "source": [
    "### Question 7"
   ]
  },
  {
   "cell_type": "code",
   "execution_count": 26,
   "metadata": {},
   "outputs": [],
   "source": [
    "X_train = []\n",
    "y_train = []\n",
    "X_validation = []\n",
    "y_validation = []\n",
    "for v in train:\n",
    "    if v['categoryID'] != 0:\n",
    "        v['categoryID'] = 1\n",
    "    features = []\n",
    "    for i in range(0, 500):\n",
    "        features.append(frequency[i][1] in v['reviewText'])\n",
    "    y_train.append(v['categoryID'])\n",
    "    X_train.append(features)\n",
    "    \n",
    "        \n",
    "for v in validation:\n",
    "    if v['categoryID'] != 0:\n",
    "        v['categoryID'] = 1\n",
    "    features = []\n",
    "    for i in range(0, 500):\n",
    "        features.append(frequency[i][1] in v['reviewText'])\n",
    "    y_validation.append(v['categoryID'])\n",
    "    X_validation.append(features)"
   ]
  },
  {
   "cell_type": "code",
   "execution_count": 27,
   "metadata": {
    "scrolled": true
   },
   "outputs": [
    {
     "name": "stdout",
     "output_type": "stream",
     "text": [
      "1\n",
      "2\n",
      "3\n",
      "4\n",
      "5\n",
      "1\n",
      "2\n",
      "3\n",
      "4\n",
      "5\n",
      "1\n",
      "2\n",
      "3\n",
      "4\n",
      "5\n",
      "1\n",
      "2\n",
      "3\n",
      "4\n",
      "5\n",
      "1\n",
      "2\n",
      "3\n",
      "4\n",
      "5\n"
     ]
    }
   ],
   "source": [
    "test_accuracies = []\n",
    "svms = []\n",
    "for c in [0.01, 0.1, 1, 10, 100]:\n",
    "    clf = svm.SVC(C=c, kernel='linear')\n",
    "    clf.fit(X_train, y_train)\n",
    "    test_predictions = clf.predict(X_validation)\n",
    "    accuracy = []\n",
    "    for i in range(0, len(test_predictions)):\n",
    "        accuracy.append(test_predictions[i] == y_validation[i])\n",
    "    test_accuracies.append((c, sum(accuracy)/len(accuracy)))\n",
    "    svms.append(clf)"
   ]
  },
  {
   "cell_type": "code",
   "execution_count": 28,
   "metadata": {},
   "outputs": [
    {
     "data": {
      "text/plain": [
       "[(0.01, 0.7714), (0.1, 0.7915), (1, 0.7908), (10, 0.7933), (100, 0.7918)]"
      ]
     },
     "execution_count": 28,
     "metadata": {},
     "output_type": "execute_result"
    }
   ],
   "source": [
    "test_accuracies"
   ]
  },
  {
   "cell_type": "markdown",
   "metadata": {},
   "source": [
    "The best performance was an accuracy of 0.7933 using C = 10"
   ]
  },
  {
   "cell_type": "markdown",
   "metadata": {},
   "source": [
    "### Question 8"
   ]
  },
  {
   "cell_type": "code",
   "execution_count": 51,
   "metadata": {},
   "outputs": [],
   "source": [
    "newTrain = train[:10000]\n",
    "newValidation = validation[:10000]"
   ]
  },
  {
   "cell_type": "code",
   "execution_count": 52,
   "metadata": {},
   "outputs": [
    {
     "name": "stdout",
     "output_type": "stream",
     "text": [
      "0.01\n",
      "Category = 0\n",
      "Fit done\n",
      "Category = 1\n",
      "Fit done\n",
      "Category = 2\n",
      "Fit done\n",
      "Category = 3\n",
      "Fit done\n",
      "Category = 4\n",
      "Fit done\n",
      "Predicting\n",
      "Finished\n",
      "\n",
      "0.1\n",
      "Category = 0\n",
      "Fit done\n",
      "Category = 1\n",
      "Fit done\n",
      "Category = 2\n",
      "Fit done\n",
      "Category = 3\n",
      "Fit done\n",
      "Category = 4\n",
      "Fit done\n",
      "Predicting\n",
      "Finished\n",
      "\n",
      "1\n",
      "Category = 0\n",
      "Fit done\n",
      "Category = 1\n",
      "Fit done\n",
      "Category = 2\n",
      "Fit done\n",
      "Category = 3\n",
      "Fit done\n",
      "Category = 4\n",
      "Fit done\n",
      "Predicting\n",
      "Finished\n",
      "\n",
      "10\n",
      "Category = 0\n",
      "Fit done\n",
      "Category = 1\n",
      "Fit done\n",
      "Category = 2\n",
      "Fit done\n",
      "Category = 3\n",
      "Fit done\n",
      "Category = 4\n",
      "Fit done\n",
      "Predicting\n",
      "Finished\n",
      "\n",
      "100\n",
      "Category = 0\n",
      "Fit done\n",
      "Category = 1\n",
      "Fit done\n",
      "Category = 2\n",
      "Fit done\n",
      "Category = 3\n",
      "Fit done\n",
      "Category = 4\n",
      "Fit done\n",
      "Predicting\n",
      "Finished\n",
      "\n"
     ]
    }
   ],
   "source": [
    "allPredictions = []\n",
    "allSvms = []\n",
    "realValidationY = [v['categoryID'] for v in newValidation]\n",
    "for c in [0.01, 0.1, 1, 10, 100]:\n",
    "    svms = []\n",
    "    print(str(c))\n",
    "    for i in range(0, 5):\n",
    "        print('Category = ' + str(i))\n",
    "        X_train = []\n",
    "        y_train = []\n",
    "        X_validation = []\n",
    "        y_validation = []\n",
    "        for v in newTrain:\n",
    "            if v['categoryID'] != i:\n",
    "                v['categoryID'] = (i+1)%5\n",
    "            features = []\n",
    "            for j in range(0, 500):\n",
    "                features.append(frequency[j][1] in v['reviewText'])\n",
    "            y_train.append(v['categoryID'])\n",
    "            X_train.append(features)\n",
    "\n",
    "\n",
    "        for v in newValidation:\n",
    "            if v['categoryID'] != i:\n",
    "                v['categoryID'] = (i+1)%5\n",
    "            features = []\n",
    "            for j in range(0, 500):\n",
    "                features.append(frequency[j][1] in v['reviewText'])\n",
    "            y_validation.append(v['categoryID'])\n",
    "            X_validation.append(features)\n",
    "\n",
    "        test_accuracies = []\n",
    "\n",
    "        clf = svm.SVC(C=c, kernel='linear')\n",
    "        clf.fit(X_train, y_train)\n",
    "        print('Fit done')\n",
    "        svms.append(clf)\n",
    "        \n",
    "    test_predictions = []\n",
    "    print('Predicting')\n",
    "    for v in X_validation:\n",
    "        confidency = [svms[j].decision_function([v]) for j in range(0, 5)]\n",
    "        posConf = [x for x in confidency if x > 0]\n",
    "        posConf.sort()\n",
    "        if posConf == []:\n",
    "            test_predictions.append(0)\n",
    "        else:\n",
    "            test_predictions.append(confidency.index(posConf[0]))\n",
    "    allPredictions.append([c, test_predictions])\n",
    "    allSvms.append(svms)\n",
    "    print('Finished')\n",
    "    print()"
   ]
  },
  {
   "cell_type": "code",
   "execution_count": 53,
   "metadata": {},
   "outputs": [],
   "source": [
    "test_accuracies = []\n",
    "for v in allPredictions:\n",
    "    predicted = v[1]\n",
    "    accuracy = []\n",
    "    for i in range(0, len(predicted)):\n",
    "        accuracy.append(predicted[i] == realValidationY[i])\n",
    "    test_accuracies.append((v[0], sum(accuracy)/len(accuracy)))"
   ]
  },
  {
   "cell_type": "code",
   "execution_count": 54,
   "metadata": {},
   "outputs": [
    {
     "data": {
      "text/plain": [
       "[(0.01, 0.2286), (0.1, 0.7914), (1, 0.2089), (10, 0.7929), (100, 0.2082)]"
      ]
     },
     "execution_count": 54,
     "metadata": {},
     "output_type": "execute_result"
    }
   ],
   "source": [
    "test_accuracies"
   ]
  },
  {
   "cell_type": "code",
   "execution_count": 55,
   "metadata": {},
   "outputs": [],
   "source": [
    "test = []\n",
    "for l in readGz(\"test_Category.json.gz\"):\n",
    "    test.append(l)"
   ]
  },
  {
   "cell_type": "code",
   "execution_count": 56,
   "metadata": {},
   "outputs": [],
   "source": [
    "X_test=[]\n",
    "for v in test:\n",
    "    features = []\n",
    "    for i in range(0, 500):\n",
    "        features.append(frequency[i][1] in v['reviewText'])\n",
    "    X_test.append(features)"
   ]
  },
  {
   "cell_type": "code",
   "execution_count": 60,
   "metadata": {
    "scrolled": true
   },
   "outputs": [],
   "source": [
    "predictions = open(\"predictions_Category.txt\", 'w')\n",
    "i = 0\n",
    "for l in open(\"pairs_Category.txt\"):\n",
    "    if l.startswith(\"reviewerID\"):\n",
    "        #header\n",
    "        predictions.write(l)\n",
    "        continue\n",
    "    u,r = l.strip().split('-')\n",
    "    \n",
    "    confidency = [allSvms[3][j].decision_function([X_test[i]]) for j in range(0, 5)]\n",
    "    posConf = [x for x in confidency if x > 0]\n",
    "    posConf.sort()\n",
    "    if posConf == []:\n",
    "        predictions.write(u + '-' + r + ',0\\n')\n",
    "    else:\n",
    "        predictions.write(u + '-' + r + ',' + str(confidency.index(posConf[0])) + '\\n')\n",
    "    i += 1\n",
    "predictions.close()"
   ]
  }
 ],
 "metadata": {
  "kernelspec": {
   "display_name": "Python 3",
   "language": "python",
   "name": "python3"
  },
  "language_info": {
   "codemirror_mode": {
    "name": "ipython",
    "version": 3
   },
   "file_extension": ".py",
   "mimetype": "text/x-python",
   "name": "python",
   "nbconvert_exporter": "python",
   "pygments_lexer": "ipython3",
   "version": "3.6.5"
  }
 },
 "nbformat": 4,
 "nbformat_minor": 2
}
